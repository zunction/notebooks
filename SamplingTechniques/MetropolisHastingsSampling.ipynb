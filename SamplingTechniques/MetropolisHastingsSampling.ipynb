{
 "cells": [
  {
   "cell_type": "markdown",
   "metadata": {
    "collapsed": true
   },
   "source": [
    "# Metropolis-Hastings Sampling\n",
    "\n",
    "### Introduction\n",
    "Unlike Gibbs sampling, the Metropolis-Hastings sampling permits update of all variables instead of one. It also works for any distribution $\\pi$ specificed by a unnormalized density $h(x)$ with respect to some measure on the state space, usually counting measure for discrete state spaces or Lebesgue measure ($dx$) for Euclidean spaces.\n",
    "\n",
    "The MH algorithm uses an auxillary transition probability specificed by a density $q(x,y)$ called a proposal distribution. For every point $x$ in the state space, $q(x,\\cdot)$ is a normalized probability density with respect to $\\mu$ having two properties: for each $x$ we can simulate a random variable $y$ having the density $q(x,\\cdot)$ and for each $x$ and $y$ we can evaluate the $q(x,y)$. There is no requirement on the choice of the density $q(x,y)$ given density $h(x)$ but just that we should be able to simulate (sample) from $q(x,y)$.\n",
    "\n",
    "TLDR: The Metropolis-Hastings (MH) algorithm simulates samples from a probability distribution by making use of the full joint density function and an **independent** proposal distributions for each of the variable of interest. \n",
    "\n",
    "The example found in the later section used to illustrate the MH sampling is based on the paper [Bayesian Inference: Metropolis-Hastings Sampling\n",
    "](http://www.mit.edu/~ilkery/papers/MetropolisHastingsSampling.pdf).\n",
    "\n",
    "#### Algorithm: Metropolis-Hastings\n",
    "1. Initialize $x^{(0)}\\sim q(x)$\n",
    "2. for $i=1,2,\\ldots$:\n",
    "\n",
    "    Propose: $x^{cand}\\sim q(x^{(i)}\\mid x^{(i-1)})$\n",
    "\n",
    "    Acceptance probability: $\\alpha(x^{cand}\\mid x^{(i-1)})=\\min \\left\\{1,\\frac{q(x^{(i-1)\\mid x^{cand}})\\pi(x^{cand})}  {q(x^{cand}\\mid x^{(i-1)})\\pi(x^{(i-1)})}\\right\\}$\n",
    "\n",
    "    $u \\sim Uniform (0,1)$\n",
    "\n",
    "3. if $u<\\alpha$ then accept the proposal: $x^{(i)} \\leftarrow x^{cand}$\n",
    "\n",
    "    else: reject the proposal: $x^{(i)} \\leftarrow x^{(i+1)}$"
   ]
  },
  {
   "cell_type": "markdown",
   "metadata": {
    "collapsed": true
   },
   "source": [
    "### Model of covariation\n",
    "We shall illustrate the MH algorithm by trying to model the correlation $\\rho$ between two streams of observation $x_{1:N}$ and $y_{1:N}$. We will model the observations given the correlation as a bivariate Gaussian distribution:\n",
    "\n",
    "$$x_i,y_i \\mid \\rho \\sim N(\\mu,\\Sigma)$$\n",
    "where $\\mu=[\\mu_x, \\mu_y]$ and $\\Sigma=\\begin{pmatrix}\\sigma_{xx} & \\rho\\\\ \\rho &\\sigma_{yy} \\\\\\end{pmatrix}$. To make it simple, we assume that $\\mu_x=0=\\mu_y$ and $\\sigma_{xx}=1=\\sigma_{yy}$. Using the [bivariate normal density](https://en.wikipedia.org/wiki/Multivariate_normal_distribution), the likelihood function is given by\n",
    "$$f(x_i,y_i\\mid \\rho)=\\prod_{i=1}^{N}\\frac{1}{2\\pi\\sqrt{1-\\rho^2}}\\exp\\left\\{-\\frac{1}{2(1-\\rho^2)}[x_i^2-2\\rho x_iy_i+y_i^2]\\right\\}$$\n",
    "For a fuller specification of the model, we need to specify a prior distribution over the correlation parameter $\\rho$. A non-informative prior for covariance matrices is te [Jeffreys prior](https://en.wikipedia.org/wiki/Jeffreys_prior) which is of the form $1/\\Sigma^{3/2}$. In our example, Jeffreys prior is \n",
    "$$p(\\rho) = \\frac{1}{\\Sigma^{3/2}}=1/(1-\\rho^2)^{3/2}$$\n",
    "We can then obtain the posterior distribution for $\\rho$ using Bayes rule:\n",
    "$$p(\\rho\\mid x_{1:N},y_{1:N}) \\propto 1/(1-\\rho^2)^{3/2}\\prod_{i=1}^{N}\\frac{1}{2\\pi\\sqrt{1-\\rho^2}}\\exp\\left\\{-\\frac{1}{2(1-\\rho^2)}[x_i^2-2\\rho x_iy_i+y_i^2]\\right\\}$$"
   ]
  },
  {
   "cell_type": "code",
   "execution_count": null,
   "metadata": {
    "collapsed": true
   },
   "outputs": [],
   "source": []
  },
  {
   "cell_type": "code",
   "execution_count": null,
   "metadata": {
    "collapsed": true
   },
   "outputs": [],
   "source": []
  },
  {
   "cell_type": "code",
   "execution_count": null,
   "metadata": {
    "collapsed": true
   },
   "outputs": [],
   "source": []
  },
  {
   "cell_type": "code",
   "execution_count": null,
   "metadata": {
    "collapsed": true
   },
   "outputs": [],
   "source": []
  },
  {
   "cell_type": "code",
   "execution_count": null,
   "metadata": {
    "collapsed": true
   },
   "outputs": [],
   "source": []
  },
  {
   "cell_type": "code",
   "execution_count": null,
   "metadata": {
    "collapsed": true
   },
   "outputs": [],
   "source": []
  },
  {
   "cell_type": "code",
   "execution_count": null,
   "metadata": {
    "collapsed": true
   },
   "outputs": [],
   "source": []
  },
  {
   "cell_type": "code",
   "execution_count": null,
   "metadata": {
    "collapsed": true
   },
   "outputs": [],
   "source": []
  },
  {
   "cell_type": "code",
   "execution_count": null,
   "metadata": {
    "collapsed": true
   },
   "outputs": [],
   "source": []
  },
  {
   "cell_type": "code",
   "execution_count": null,
   "metadata": {
    "collapsed": true
   },
   "outputs": [],
   "source": []
  },
  {
   "cell_type": "code",
   "execution_count": null,
   "metadata": {
    "collapsed": true
   },
   "outputs": [],
   "source": []
  },
  {
   "cell_type": "code",
   "execution_count": null,
   "metadata": {
    "collapsed": true
   },
   "outputs": [],
   "source": []
  }
 ],
 "metadata": {
  "kernelspec": {
   "display_name": "Python 3",
   "language": "python",
   "name": "python3"
  },
  "language_info": {
   "codemirror_mode": {
    "name": "ipython",
    "version": 3
   },
   "file_extension": ".py",
   "mimetype": "text/x-python",
   "name": "python",
   "nbconvert_exporter": "python",
   "pygments_lexer": "ipython3",
   "version": "3.5.2"
  }
 },
 "nbformat": 4,
 "nbformat_minor": 0
}
