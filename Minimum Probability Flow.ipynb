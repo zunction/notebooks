{
 "cells": [
  {
   "cell_type": "markdown",
   "metadata": {},
   "source": [
    "# Minimum probability flow"
   ]
  },
  {
   "cell_type": "code",
   "execution_count": 1,
   "metadata": {
    "collapsed": true
   },
   "outputs": [],
   "source": [
    "import numpy as np\n",
    "import theano.tensor as T"
   ]
  },
  {
   "cell_type": "markdown",
   "metadata": {},
   "source": [
    "## Preparation\n",
    "To get started we first have to prepare the data to work with. The steps to synthesis the data are as follows:\n",
    "1. Form a $n \\times n$ matrix $W$ that is symmetric with diagonal entries set to zeros.\n",
    "2. The bias vector is $n \\times 1$ that is either set to zero or takes binary inputs.\n",
    "3. Initialise a vector of size $n$ that has binary entries, $x^{(1)}$, which is used to generate the subsequent sample values.\n",
    "4. Given $x^{(i)}$, for each row $j$\n",
    "\\begin{align*}\n",
    "p_{j}^{(i+1)} &= \\sigma\\left(\\sum_{k=1}^{n}w_{jk}x_{k}^{(i)}\\right)\\\\\n",
    "%x_{j}^{(i+1)}&=\\sigma(\\tilde{x}_{j}^{(i+1)})\n",
    "\\end{align*}\n",
    "where $\\sigma$ is the sigmoid function, thus produces a row of values between 0 and 1. Each entry of $x_j^{(i+1)}$ is Bernoulli distributed with parameter $p_{j}^{(i+1)}$.\n",
    "The requirement of being symmetric with diagonal entries set to zero for $W$ is necessary for the data to be 'good'. Shall elaborate on the good later."
   ]
  },
  {
   "cell_type": "code",
   "execution_count": 2,
   "metadata": {
    "collapsed": false
   },
   "outputs": [
    {
     "name": "stdout",
     "output_type": "stream",
     "text": [
      "x: [[1 1 0 1 0 1 0 0 1 1 1 0 1 0 1 0]]\n",
      "W: [[ -0.00000000e+00  -4.88921061e-01  -4.98583517e-01   1.72484638e+00\n",
      "   -1.21939916e-01   2.76529305e-01   6.50219444e-01  -5.24777873e-01\n",
      "    6.29830406e-01  -2.02219663e+00   3.40368156e-01   4.91941414e-01\n",
      "    6.33251718e-01   1.56830887e+00   3.49886099e-01  -1.25343035e+00]\n",
      " [ -4.88921061e-01  -0.00000000e+00  -6.11256797e-01   1.24735168e-01\n",
      "    1.64861297e+00   2.80298761e-01   8.15908746e-01   9.18864243e-01\n",
      "   -4.13948583e-01   1.60707995e+00  -9.05613893e-01   1.57818182e+00\n",
      "    1.18801773e+00  -4.62862668e-01   5.02958049e-02  -4.09916520e-01]\n",
      " [ -4.98583517e-01  -6.11256797e-01  -0.00000000e+00  -8.35651964e-01\n",
      "   -8.34370377e-01  -1.76868270e+00   6.12945751e-01   2.82117426e-01\n",
      "   -8.90130522e-01   6.49506915e-01   9.71738200e-01   1.68027566e+00\n",
      "   -1.12637783e+00  -6.68212525e-01  -1.46631479e+00   1.35724178e-01]\n",
      " [  1.72484638e+00   1.24735168e-01  -8.35651964e-01  -0.00000000e+00\n",
      "    4.75819061e-01   4.57343774e-01  -1.64343571e+00  -5.89859002e-01\n",
      "   -3.94025349e-02   7.05022441e-01  -1.20887397e+00   6.16550452e-03\n",
      "   -4.47803132e-01  -9.71370934e-01  -8.71682016e-02   1.66481826e+00]\n",
      " [ -1.21939916e-01   1.64861297e+00  -8.34370377e-01   4.75819061e-01\n",
      "   -0.00000000e+00  -2.18040884e-01   1.95193214e-01   1.33976799e+00\n",
      "    9.69608669e-01   1.86968568e-01  -3.16937388e-01   5.74353084e-01\n",
      "    9.60105710e-01  -5.47227458e-01  -8.05930120e-01   6.99323298e-02]\n",
      " [  2.76529305e-01   2.80298761e-01  -1.76868270e+00   4.57343774e-01\n",
      "   -2.18040884e-01  -0.00000000e+00   1.25296046e+00  -2.40567673e-01\n",
      "   -2.26459184e-03   4.47492065e-01  -1.23944177e+00   1.13645064e+00\n",
      "    1.30139129e+00  -8.04711822e-01   1.11095106e+00  -4.34061202e-01]\n",
      " [  6.50219444e-01   8.15908746e-01   6.12945751e-01  -1.64343571e+00\n",
      "    1.95193214e-01   1.25296046e+00   0.00000000e+00   2.12874824e-01\n",
      "    7.25912570e-02   8.60575933e-01  -1.18253670e+00   1.84701895e+00\n",
      "   -2.56125021e+00  -1.75638938e-02   4.30582375e-01   5.26380458e-01]\n",
      " [ -5.24777873e-01   9.18864243e-01   2.82117426e-01  -5.89859002e-01\n",
      "    1.33976799e+00  -2.40567673e-01   2.12874824e-01  -0.00000000e+00\n",
      "   -3.57167964e-02  -6.00464907e-01  -7.47514364e-01  -7.18343770e-01\n",
      "    3.60456672e-01   1.74572798e-01  -6.92117359e-01   1.06382941e+00]\n",
      " [  6.29830406e-01  -4.13948583e-01  -8.90130522e-01  -3.94025349e-02\n",
      "    9.69608669e-01  -2.26459184e-03   7.25912570e-02  -3.57167964e-02\n",
      "   -0.00000000e+00  -5.75732144e-01   1.03245411e-01   1.24883340e+00\n",
      "    9.83348650e-01   7.65422526e-01  -4.34694683e-01   9.39166614e-01]\n",
      " [ -2.02219663e+00   1.60707995e+00   6.49506915e-01   7.05022441e-01\n",
      "    1.86968568e-01   4.47492065e-01   8.60575933e-01  -6.00464907e-01\n",
      "   -5.75732144e-01   0.00000000e+00   2.26426977e+00   8.98411585e-01\n",
      "    2.64342101e-01   4.96664506e-01   2.42438797e-01   1.04107712e+00]\n",
      " [  3.40368156e-01  -9.05613893e-01   9.71738200e-01  -1.20887397e+00\n",
      "   -3.16937388e-01  -1.23944177e+00  -1.18253670e+00  -7.47514364e-01\n",
      "    1.03245411e-01   2.26426977e+00  -0.00000000e+00  -1.83919566e-01\n",
      "    2.17779487e+00  -3.90194995e-01  -1.08926150e+00   1.26977053e-01]\n",
      " [  4.91941414e-01   1.57818182e+00   1.68027566e+00   6.16550452e-03\n",
      "    5.74353084e-01   1.13645064e+00   1.84701895e+00  -7.18343770e-01\n",
      "    1.24883340e+00   8.98411585e-01  -1.83919566e-01   0.00000000e+00\n",
      "   -8.29939420e-01  -5.01070926e-02   1.19589768e+00  -9.23346219e-01]\n",
      " [  6.33251718e-01   1.18801773e+00  -1.12637783e+00  -4.47803132e-01\n",
      "    9.60105710e-01   1.30139129e+00  -2.56125021e+00   3.60456672e-01\n",
      "    9.83348650e-01   2.64342101e-01   2.17779487e+00  -8.29939420e-01\n",
      "   -0.00000000e+00  -2.82858354e-01   1.62034136e+00   5.69566046e-01]\n",
      " [  1.56830887e+00  -4.62862668e-01  -6.68212525e-01  -9.71370934e-01\n",
      "   -5.47227458e-01  -8.04711822e-01  -1.75638938e-02   1.74572798e-01\n",
      "    7.65422526e-01   4.96664506e-01  -3.90194995e-01  -5.01070926e-02\n",
      "   -2.82858354e-01   0.00000000e+00  -2.83396740e+00  -1.92252026e+00]\n",
      " [  3.49886099e-01   5.02958049e-02  -1.46631479e+00  -8.71682016e-02\n",
      "   -8.05930120e-01   1.11095106e+00   4.30582375e-01  -6.92117359e-01\n",
      "   -4.34694683e-01   2.42438797e-01  -1.08926150e+00   1.19589768e+00\n",
      "    1.62034136e+00  -2.83396740e+00   0.00000000e+00   4.34967745e-01]\n",
      " [ -1.25343035e+00  -4.09916520e-01   1.35724178e-01   1.66481826e+00\n",
      "    6.99323298e-02  -4.34061202e-01   5.26380458e-01   1.06382941e+00\n",
      "    9.39166614e-01   1.04107712e+00   1.26977053e-01  -9.23346219e-01\n",
      "    5.69566046e-01  -1.92252026e+00   4.34967745e-01   0.00000000e+00]]\n",
      "b: [[ 0.  0.  0.  0.  0.  0.  0.  0.  0.  0.  0.  0.  0.  0.  0.  0.]]\n"
     ]
    }
   ],
   "source": [
    "# Set dimension of the data vector\n",
    "n = 16\n",
    "\n",
    "# Initialize weight matrix that is symmetric and has zero diagonal entries\n",
    "W = np.triu(np.random.normal(0,1,(n,n)))*(1 - np.eye(n))\n",
    "# W = np.triu(np.random.rand(n,n))*(1 - np.eye(n))\n",
    "W = W + np.transpose(W)\n",
    "# W = 2*W - 1\n",
    "\n",
    "# Ask Gary if the initialization of the W matrix is between 0 and 1 as I will get a all ones dataset\n",
    "\n",
    "# To test if W is symmetric\n",
    "# print (W)\n",
    "# print ((W == np.transpose(W)).all())\n",
    "\n",
    "# Bias vector with binary inputs\n",
    "#b = np.random.randint(2, size = n).reshape(n,-1)\n",
    "b = np.zeros((1,n)).reshape(n,-1)\n",
    "\n",
    "# Seed data vector to generate data\n",
    "x = np.random.randint(2, size = n).reshape(n,-1)\n",
    "\n",
    "print ('x:',np.transpose(x))\n",
    "print ('W:',W)\n",
    "print ('b:',np.transpose(b))"
   ]
  },
  {
   "cell_type": "code",
   "execution_count": 3,
   "metadata": {
    "collapsed": true
   },
   "outputs": [],
   "source": [
    "def sigmoid(x):\n",
    "    return 1/ (1 + np.exp(-x))"
   ]
  },
  {
   "cell_type": "code",
   "execution_count": 4,
   "metadata": {
    "collapsed": true
   },
   "outputs": [],
   "source": [
    "def gen_singledata(x, W, b):\n",
    "#     print (W.dot(x) + b)\n",
    "#     print (sigmoid(W.dot(x) + b))\n",
    "    return np.random.binomial(1,sigmoid(W.dot(x)+b))    "
   ]
  },
  {
   "cell_type": "markdown",
   "metadata": {},
   "source": [
    "To be done: while looping concantenate the data for every thousand."
   ]
  },
  {
   "cell_type": "code",
   "execution_count": 5,
   "metadata": {
    "collapsed": true
   },
   "outputs": [],
   "source": [
    "def gen_data(x, W, b, n, m):\n",
    "    \"\"\"\n",
    "    Generates n*m data and selects one data for every m data generated and \n",
    "    returns a matrix where each row is a dataset.\n",
    "    Inputs:\n",
    "    - x: seed data of shape (n,1) (to generate more data).\n",
    "    - W: a matrix of shape (n,n).\n",
    "    - b: a bias of shape (n,1).\n",
    "    - n: (int) number of data samples generated.\n",
    "    - m: (int) period of each data collected.\n",
    "    \"\"\"\n",
    "    data = np.zeros((n * m + 1,x.shape[0]))\n",
    "    for i in np.arange(n * m + 1):\n",
    "        x = gen_singledata(x, W, b)\n",
    "        data[i,:] = np.transpose(x)\n",
    "        \n",
    "    print (data)\n",
    "    return data[0:n * m + 1:m,:]        "
   ]
  },
  {
   "cell_type": "code",
   "execution_count": 6,
   "metadata": {
    "collapsed": false
   },
   "outputs": [
    {
     "name": "stdout",
     "output_type": "stream",
     "text": [
      "[[ 1.  1.  0.  0.  1.  1.  0.  0.  1.  1.  1.  1.  1.  0.  1.  1.]\n",
      " [ 0.  1.  0.  1.  1.  1.  1.  1.  1.  1.  1.  1.  1.  0.  1.  0.]\n",
      " [ 1.  1.  0.  0.  1.  1.  0.  0.  0.  1.  0.  1.  1.  0.  1.  1.]\n",
      " [ 0.  1.  0.  1.  1.  1.  1.  1.  1.  1.  1.  1.  1.  0.  1.  0.]\n",
      " [ 1.  1.  0.  0.  1.  1.  1.  0.  0.  1.  0.  1.  1.  0.  1.  1.]\n",
      " [ 0.  1.  0.  1.  1.  1.  1.  1.  1.  1.  0.  1.  1.  0.  1.  1.]\n",
      " [ 0.  1.  0.  1.  1.  1.  1.  1.  1.  1.  0.  1.  1.  0.  1.  1.]\n",
      " [ 0.  1.  0.  0.  1.  1.  0.  1.  1.  0.  0.  1.  1.  0.  1.  1.]\n",
      " [ 1.  1.  0.  1.  1.  1.  1.  1.  1.  1.  0.  1.  1.  0.  1.  0.]\n",
      " [ 1.  1.  0.  1.  1.  1.  1.  0.  1.  1.  0.  1.  1.  0.  1.  1.]\n",
      " [ 0.  1.  0.  1.  1.  1.  1.  1.  1.  1.  1.  1.  1.  0.  1.  0.]]\n"
     ]
    },
    {
     "data": {
      "text/plain": [
       "array([[ 1.,  1.,  0.,  0.,  1.,  1.,  0.,  0.,  1.,  1.,  1.,  1.,  1.,\n",
       "         0.,  1.,  1.],\n",
       "       [ 0.,  1.,  0.,  1.,  1.,  1.,  1.,  1.,  1.,  1.,  0.,  1.,  1.,\n",
       "         0.,  1.,  1.],\n",
       "       [ 0.,  1.,  0.,  1.,  1.,  1.,  1.,  1.,  1.,  1.,  1.,  1.,  1.,\n",
       "         0.,  1.,  0.]])"
      ]
     },
     "execution_count": 6,
     "metadata": {},
     "output_type": "execute_result"
    }
   ],
   "source": [
    "gen_data(x, W, b, 2, 5)"
   ]
  },
  {
   "cell_type": "code",
   "execution_count": null,
   "metadata": {
    "collapsed": true
   },
   "outputs": [],
   "source": []
  },
  {
   "cell_type": "code",
   "execution_count": null,
   "metadata": {
    "collapsed": true
   },
   "outputs": [],
   "source": []
  },
  {
   "cell_type": "code",
   "execution_count": null,
   "metadata": {
    "collapsed": true
   },
   "outputs": [],
   "source": []
  },
  {
   "cell_type": "code",
   "execution_count": null,
   "metadata": {
    "collapsed": true
   },
   "outputs": [],
   "source": []
  },
  {
   "cell_type": "code",
   "execution_count": null,
   "metadata": {
    "collapsed": true
   },
   "outputs": [],
   "source": []
  }
 ],
 "metadata": {
  "kernelspec": {
   "display_name": "Python 3",
   "language": "python",
   "name": "python3"
  },
  "language_info": {
   "codemirror_mode": {
    "name": "ipython",
    "version": 3
   },
   "file_extension": ".py",
   "mimetype": "text/x-python",
   "name": "python",
   "nbconvert_exporter": "python",
   "pygments_lexer": "ipython3",
   "version": "3.5.2"
  }
 },
 "nbformat": 4,
 "nbformat_minor": 1
}
