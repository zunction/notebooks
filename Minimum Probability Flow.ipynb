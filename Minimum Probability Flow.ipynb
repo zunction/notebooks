{
 "cells": [
  {
   "cell_type": "markdown",
   "metadata": {},
   "source": [
    "# Minimum probability flow"
   ]
  },
  {
   "cell_type": "code",
   "execution_count": 1,
   "metadata": {
    "collapsed": true
   },
   "outputs": [],
   "source": [
    "import numpy as np\n",
    "import theano.tensor as T"
   ]
  },
  {
   "cell_type": "markdown",
   "metadata": {},
   "source": [
    "## Preparation\n",
    "To get started we first have to prepare the data to work with. The steps to synthesis the data are as follows:\n",
    "1. Form a $n \\times n$ matrix $W$ that is symmetric with diagonal entries set to zeros.\n",
    "2. The bias vector is $n \\times 1$ that is either set to zero or takes binary inputs.\n",
    "3. Initialise a vector of size $n$ that has binary entries, $x^{(1)}$, which is used to generate the subsequent sample values.\n",
    "4. Given $x^{(i)}$, for each row $j$\n",
    "\\begin{align*}\n",
    "p_{j}^{(i+1)} &= \\sigma\\left(\\sum_{k=1}^{n}w_{jk}x_{k}^{(i)}\\right)\\\\\n",
    "%x_{j}^{(i+1)}&=\\sigma(\\tilde{x}_{j}^{(i+1)})\n",
    "\\end{align*}\n",
    "where $\\sigma$ is the sigmoid function, thus produces a row of values between 0 and 1. Each entry of $x_j^{(i+1)}$ is Bernoulli distributed with parameter $p_{j}^{(i+1)}$.\n",
    "The requirement of being symmetric with diagonal entries set to zero for $W$ is necessary for the data to be 'good'. Shall elaborate on the good later."
   ]
  },
  {
   "cell_type": "code",
   "execution_count": 24,
   "metadata": {
    "collapsed": false
   },
   "outputs": [
    {
     "name": "stdout",
     "output_type": "stream",
     "text": [
      "x: [[0 1 1 0 1 0 0 0 0 0 0 1 1 1 1 1]]\n",
      "W: [[-1.         -0.20057741 -0.22754287 -0.9369603  -0.47774934  0.50280341\n",
      "  -0.37380733  0.78123877  0.3809893  -0.26668995  0.85325307 -0.4895073\n",
      "   0.69547324 -0.49539535 -0.87679366  0.40432358]\n",
      " [-0.20057741 -1.          0.78048164  0.52623245 -0.52984692 -0.68126731\n",
      "  -0.64120093  0.49685403 -0.47903665  0.45250762  0.8363376  -0.30420229\n",
      "  -0.61487372  0.14325792 -0.0550722  -0.51711991]\n",
      " [-0.22754287  0.78048164 -1.          0.87865492 -0.09607977 -0.75976239\n",
      "   0.55648797 -0.12308346 -0.11070081  0.7867596  -0.67090432  0.18998381\n",
      "  -0.29382396 -0.13419263  0.38168901 -0.8791516 ]\n",
      " [-0.9369603   0.52623245  0.87865492 -1.          0.7183934   0.51986674\n",
      "   0.86704343 -0.10242716 -0.456637   -0.07977738 -0.93096476  0.77257717\n",
      "  -0.12562157  0.5442011   0.66910027 -0.83263495]\n",
      " [-0.47774934 -0.52984692 -0.09607977  0.7183934  -1.         -0.61599136\n",
      "  -0.57928156 -0.92097703  0.9067089  -0.74319476  0.43135643 -0.30418869\n",
      "  -0.32526475  0.65281061  0.22374102 -0.45025153]\n",
      " [ 0.50280341 -0.68126731 -0.75976239  0.51986674 -0.61599136 -1.\n",
      "   0.04485218 -0.46974784 -0.59904872 -0.5992145   0.37319586 -0.56502043\n",
      "  -0.97193554 -0.23122593 -0.76238366  0.05871423]\n",
      " [-0.37380733 -0.64120093  0.55648797  0.86704343 -0.57928156  0.04485218\n",
      "  -1.          0.52711076 -0.95467115  0.05007365  0.98714709 -0.46175753\n",
      "  -0.83431088 -0.57275285  0.43672429  0.8845684 ]\n",
      " [ 0.78123877  0.49685403 -0.12308346 -0.10242716 -0.92097703 -0.46974784\n",
      "   0.52711076 -1.         -0.96576021 -0.34507713 -0.24738059 -0.06391849\n",
      "   0.20101224  0.598091   -0.30210204  0.78306231]\n",
      " [ 0.3809893  -0.47903665 -0.11070081 -0.456637    0.9067089  -0.59904872\n",
      "  -0.95467115 -0.96576021 -1.          0.90792658 -0.06331686  0.66743255\n",
      "   0.37035505  0.81565732 -0.8354434   0.54377486]\n",
      " [-0.26668995  0.45250762  0.7867596  -0.07977738 -0.74319476 -0.5992145\n",
      "   0.05007365 -0.34507713  0.90792658 -1.         -0.50496448 -0.82527514\n",
      "  -0.40841879  0.03523569 -0.17116811  0.34617185]\n",
      " [ 0.85325307  0.8363376  -0.67090432 -0.93096476  0.43135643  0.37319586\n",
      "   0.98714709 -0.24738059 -0.06331686 -0.50496448 -1.          0.89319766\n",
      "   0.23316392  0.80578528  0.86723782 -0.21655324]\n",
      " [-0.4895073  -0.30420229  0.18998381  0.77257717 -0.30418869 -0.56502043\n",
      "  -0.46175753 -0.06391849  0.66743255 -0.82527514  0.89319766 -1.\n",
      "  -0.00912455  0.44838483  0.60984291 -0.77453332]\n",
      " [ 0.69547324 -0.61487372 -0.29382396 -0.12562157 -0.32526475 -0.97193554\n",
      "  -0.83431088  0.20101224  0.37035505 -0.40841879  0.23316392 -0.00912455\n",
      "  -1.         -0.11128364 -0.29194314 -0.5948047 ]\n",
      " [-0.49539535  0.14325792 -0.13419263  0.5442011   0.65281061 -0.23122593\n",
      "  -0.57275285  0.598091    0.81565732  0.03523569  0.80578528  0.44838483\n",
      "  -0.11128364 -1.          0.67893567  0.85066471]\n",
      " [-0.87679366 -0.0550722   0.38168901  0.66910027  0.22374102 -0.76238366\n",
      "   0.43672429 -0.30210204 -0.8354434  -0.17116811  0.86723782  0.60984291\n",
      "  -0.29194314  0.67893567 -1.         -0.62486901]\n",
      " [ 0.40432358 -0.51711991 -0.8791516  -0.83263495 -0.45025153  0.05871423\n",
      "   0.8845684   0.78306231  0.54377486  0.34617185 -0.21655324 -0.77453332\n",
      "  -0.5948047   0.85066471 -0.62486901 -1.        ]]\n",
      "b: [[ 0.  0.  0.  0.  0.  0.  0.  0.  0.  0.  0.  0.  0.  0.  0.  0.]]\n"
     ]
    }
   ],
   "source": [
    "# Set dimension of the data vector\n",
    "n = 16\n",
    "\n",
    "# Initialize weight matrix that is symmetric and has zero diagonal entries\n",
    "# W = np.triu(np.random.normal(0,1,(n,n)))*(1 - np.eye(n))\n",
    "W = np.triu(np.random.rand(n,n))*(1 - np.eye(n))\n",
    "W = W + np.transpose(W)\n",
    "W = 2*W - 1\n",
    "\n",
    "# Ask Gary if the initialization of the W matrix is between 0 and 1 as I will get a all ones dataset\n",
    "\n",
    "# To test if W is symmetric\n",
    "# print (W)\n",
    "# print ((W == np.transpose(W)).all())\n",
    "\n",
    "# Bias vector with binary inputs\n",
    "#b = np.random.randint(2, size = n).reshape(n,-1)\n",
    "b = np.zeros((1,n)).reshape(n,-1)\n",
    "\n",
    "# Seed data vector to generate data\n",
    "x = np.random.randint(2, size = n).reshape(n,-1)\n",
    "\n",
    "print ('x:',np.transpose(x))\n",
    "print ('W:',W)\n",
    "print ('b:',np.transpose(b))"
   ]
  },
  {
   "cell_type": "code",
   "execution_count": 25,
   "metadata": {
    "collapsed": true
   },
   "outputs": [],
   "source": [
    "def sigmoid(x):\n",
    "    return 1/ (1 + np.exp(-x))"
   ]
  },
  {
   "cell_type": "code",
   "execution_count": 28,
   "metadata": {
    "collapsed": true
   },
   "outputs": [],
   "source": [
    "def gendata(x, W, b):\n",
    "#     print (W.dot(x) + b)\n",
    "#     print (sigmoid(W.dot(x) + b))\n",
    "    return np.random.binomial(1,sigmoid(W.dot(x)+b))    "
   ]
  },
  {
   "cell_type": "code",
   "execution_count": 29,
   "metadata": {
    "collapsed": false
   },
   "outputs": [
    {
     "name": "stdout",
     "output_type": "stream",
     "text": [
      "[[0 0 1 1 0 0 0 0 1 0 1 1 0 1 0 1]]\n",
      "[[0 0 0 0 1 0 1 0 1 1 0 0 0 1 1 0]]\n",
      "[[0 0 1 1 0 0 0 1 1 0 1 1 0 1 0 1]]\n",
      "[[0 1 0 0 0 1 1 0 0 1 1 1 1 1 1 0]]\n",
      "[[0 0 1 1 0 0 0 1 1 0 1 0 0 1 1 0]]\n",
      "[[1 1 0 0 1 0 0 0 0 0 1 1 0 1 1 1]]\n",
      "[[0 0 1 0 0 1 0 0 0 0 1 0 0 1 0 0]]\n",
      "[[1 1 0 0 1 0 1 1 1 0 0 1 1 1 1 1]]\n",
      "[[1 0 0 1 0 0 0 1 0 0 1 1 0 1 0 1]]\n",
      "[[1 1 0 0 0 0 1 0 1 0 1 0 0 0 0 0]]\n"
     ]
    }
   ],
   "source": [
    "for i in np.arange(10):\n",
    "    x = gendata(x, W, b)\n",
    "    print (np.transpose(x))"
   ]
  },
  {
   "cell_type": "code",
   "execution_count": null,
   "metadata": {
    "collapsed": true
   },
   "outputs": [],
   "source": []
  },
  {
   "cell_type": "code",
   "execution_count": null,
   "metadata": {
    "collapsed": true
   },
   "outputs": [],
   "source": []
  },
  {
   "cell_type": "code",
   "execution_count": null,
   "metadata": {
    "collapsed": true
   },
   "outputs": [],
   "source": []
  },
  {
   "cell_type": "code",
   "execution_count": null,
   "metadata": {
    "collapsed": true
   },
   "outputs": [],
   "source": []
  },
  {
   "cell_type": "code",
   "execution_count": null,
   "metadata": {
    "collapsed": true
   },
   "outputs": [],
   "source": []
  },
  {
   "cell_type": "code",
   "execution_count": null,
   "metadata": {
    "collapsed": true
   },
   "outputs": [],
   "source": []
  }
 ],
 "metadata": {
  "kernelspec": {
   "display_name": "Python 3",
   "language": "python",
   "name": "python3"
  },
  "language_info": {
   "codemirror_mode": {
    "name": "ipython",
    "version": 3
   },
   "file_extension": ".py",
   "mimetype": "text/x-python",
   "name": "python",
   "nbconvert_exporter": "python",
   "pygments_lexer": "ipython3",
   "version": "3.5.2"
  }
 },
 "nbformat": 4,
 "nbformat_minor": 1
}
