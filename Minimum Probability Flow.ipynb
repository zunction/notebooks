{
 "cells": [
  {
   "cell_type": "markdown",
   "metadata": {},
   "source": [
    "# Minimum probability flow"
   ]
  },
  {
   "cell_type": "code",
   "execution_count": 2,
   "metadata": {
    "collapsed": true
   },
   "outputs": [],
   "source": [
    "import numpy as np\n",
    "import theano.tensor as T"
   ]
  },
  {
   "cell_type": "markdown",
   "metadata": {},
   "source": [
    "## Preparation\n",
    "To get started we first have to prepare the data to work with. The steps to synthesis the data are as follows:\n",
    "1. Form a $n \\times n$ matrix $W$ that is symmetric with diagonal entries set to zeros.\n",
    "2. The bias vector is $n \\times 1$ that is either set to zero or takes binary inputs.\n",
    "3. Initialise a vector of size $n$ that has binary entries, $x^{(1)}$, which is used to generate the subsequent sample values.\n",
    "4. Given $x^{(i)}$, for each row $j$\n",
    "\\begin{align*}\n",
    "p_{j}^{(i+1)} &= \\sigma\\left(\\sum_{k=1}^{n}w_{jk}x_{k}^{(i)}\\right)\\\\\n",
    "%x_{j}^{(i+1)}&=\\sigma(\\tilde{x}_{j}^{(i+1)})\n",
    "\\end{align*}\n",
    "which produces a row of values between 0 and 1. Each entry of $x_j^{(i+1)}$ is Bernoulli distributed with parameter $p_{j}^{(i+1)}$.\n"
   ]
  },
  {
   "cell_type": "code",
   "execution_count": 113,
   "metadata": {
    "collapsed": false
   },
   "outputs": [],
   "source": [
    "# Set dimension of the data vector\n",
    "n = 16\n",
    "\n",
    "# Initialize weight matrix that is symmetric and has zero diagonal entries\n",
    "W = np.triu(np.random.normal(0,1,(n,n))).dot(1 - np.eye(n))\n",
    "\n",
    "# Bias vector with binary inputs\n",
    "#b = np.random.randint(2, size = n)\n",
    "b = np.zeros((1,n))\n",
    "\n",
    "# Seed data vector to generate data\n",
    "x = np.random.randint(2, size = n)"
   ]
  },
  {
   "cell_type": "code",
   "execution_count": 114,
   "metadata": {
    "collapsed": true
   },
   "outputs": [],
   "source": [
    "def sigmoid(x):\n",
    "    return 1/ (1 + np.exp(-x))"
   ]
  },
  {
   "cell_type": "code",
   "execution_count": 115,
   "metadata": {
    "collapsed": true
   },
   "outputs": [],
   "source": [
    "def gendata(x, W, b):\n",
    "    #print (sigmoid(W.dot(x)+b))\n",
    "    return np.random.binomial(1,sigmoid(W.dot(x)+b))    "
   ]
  },
  {
   "cell_type": "code",
   "execution_count": 117,
   "metadata": {
    "collapsed": false
   },
   "outputs": [
    {
     "name": "stdout",
     "output_type": "stream",
     "text": [
      "[[1 0 1 1 1 0 0 0 1 1 1 1 1 1 0 0]]\n",
      "[[1 0 1 1 1 0 0 0 1 1 1 1 1 1 0 0]]\n",
      "[[1 0 1 1 1 0 0 0 1 1 1 1 1 1 0 0]]\n",
      "[[1 0 1 1 1 0 0 0 1 1 1 1 1 1 0 0]]\n",
      "[[1 0 1 1 1 0 0 0 1 1 1 1 1 1 0 0]]\n",
      "[[1 0 1 1 1 0 0 0 1 1 1 1 1 1 0 0]]\n",
      "[[1 0 1 1 1 0 0 0 1 1 1 1 1 1 0 0]]\n",
      "[[1 0 1 1 1 0 0 0 1 1 1 1 1 1 0 0]]\n",
      "[[1 0 1 1 1 0 0 0 1 1 1 1 1 1 0 0]]\n",
      "[[1 0 1 1 1 0 0 0 1 1 1 1 1 1 0 0]]\n"
     ]
    }
   ],
   "source": [
    "for i in np.arange(10):\n",
    "    y = gendata(x, W, b)\n",
    "    print (y)"
   ]
  },
  {
   "cell_type": "code",
   "execution_count": null,
   "metadata": {
    "collapsed": true
   },
   "outputs": [],
   "source": []
  }
 ],
 "metadata": {
  "kernelspec": {
   "display_name": "Python 3",
   "language": "python",
   "name": "python3"
  },
  "language_info": {
   "codemirror_mode": {
    "name": "ipython",
    "version": 3
   },
   "file_extension": ".py",
   "mimetype": "text/x-python",
   "name": "python",
   "nbconvert_exporter": "python",
   "pygments_lexer": "ipython3",
   "version": "3.5.2"
  }
 },
 "nbformat": 4,
 "nbformat_minor": 1
}
