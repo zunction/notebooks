{
 "cells": [
  {
   "cell_type": "markdown",
   "metadata": {},
   "source": [
    "# Minimum probability flow"
   ]
  },
  {
   "cell_type": "code",
   "execution_count": 1,
   "metadata": {
    "collapsed": true
   },
   "outputs": [],
   "source": [
    "import numpy as np\n",
    "import theano.tensor as T"
   ]
  },
  {
   "cell_type": "markdown",
   "metadata": {},
   "source": [
    "## Preparation\n",
    "To get started we first have to prepare the data to work with. The steps to synthesis the data are as follows:\n",
    "1. Form a $n \\times n$ matrix $W$ that is symmetric with diagonal entries set to zeros.\n",
    "2. The bias vector is $n \\times 1$ that is either set to zero or takes binary inputs.\n",
    "3. Initialise a vector of size $n$ that has binary entries, $x^{(1)}$, which is used to generate the subsequent sample values.\n",
    "4. Given $x^{(i)}$, for each row $j$\n",
    "\\begin{align*}\n",
    "p_{j}^{(i+1)} &= \\sigma\\left(\\sum_{k=1}^{n}w_{jk}x_{k}^{(i)}\\right)\\\\\n",
    "%x_{j}^{(i+1)}&=\\sigma(\\tilde{x}_{j}^{(i+1)})\n",
    "\\end{align*}\n",
    "where $\\sigma$ is the sigmoid function, thus produces a row of values between 0 and 1. Each entry of $x_j^{(i+1)}$ is Bernoulli distributed with parameter $p_{j}^{(i+1)}$.\n",
    "The requirement of being symmetric with diagonal entries set to zero for $W$ is necessary for the data to be 'good'. Shall elaborate on the good later."
   ]
  },
  {
   "cell_type": "code",
   "execution_count": 2,
   "metadata": {
    "collapsed": false
   },
   "outputs": [
    {
     "name": "stdout",
     "output_type": "stream",
     "text": [
      "x: [[1 0 0 0 0 0 1 0 1 0 1 0 1 0 1 0]]\n",
      "W: [[ 0.          0.08627778 -0.36675979  0.50092889 -0.26561384 -0.14560876\n",
      "  -0.93630841 -0.51907027  1.09377534  0.01521072 -0.06133995  0.50529862\n",
      "   1.71433541 -0.02057106 -1.28082203 -0.78621307]\n",
      " [ 0.08627778  0.          0.15024511 -0.42847049 -1.20601409 -0.69655557\n",
      "   1.42907881 -0.07268021  1.90756479 -0.10215597 -0.93103294  0.34496104\n",
      "   0.23342034 -2.21605038  0.20507378 -0.25891111]\n",
      " [-0.36675979  0.15024511  0.          0.96332637  0.18515433 -0.25989519\n",
      "   0.64681005  1.13210109  0.25326655 -2.23926725 -0.38651376  0.86622138\n",
      "   1.64960995 -0.764915    0.03145557 -1.22298646]\n",
      " [ 0.50092889 -0.42847049  0.96332637  0.          1.63987737 -2.20182153\n",
      "  -0.13619547 -1.40377921 -1.22714478 -0.87737019 -1.21929998  0.4143886\n",
      "   0.49816448 -0.9360532   0.53298873 -0.28391474]\n",
      " [-0.26561384 -1.20601409  0.18515433  1.63987737 -0.         -0.75869165\n",
      "   1.27392342  1.27430104 -1.15168162  0.99722844 -0.11249396  1.13080055\n",
      "  -0.51888175  0.59725608 -0.50712264  0.32896865]\n",
      " [-0.14560876 -0.69655557 -0.25989519 -2.20182153 -0.75869165 -0.\n",
      "  -0.35970248  0.305254   -1.43157901 -0.35807255  0.97380266 -1.70201079\n",
      "  -0.24092861  1.81498948 -0.25167476  0.97597333]\n",
      " [-0.93630841  1.42907881  0.64681005 -0.13619547  1.27392342 -0.35970248\n",
      "   0.         -0.47123161 -1.21236435  0.23281407 -0.91248501  0.15591656\n",
      "  -0.27460384 -0.65419149 -0.27897931  1.0278505 ]\n",
      " [-0.51907027 -0.07268021  1.13210109 -1.40377921  1.27430104  0.305254\n",
      "  -0.47123161  0.         -0.30205883  1.21182203  0.04685737  0.37652388\n",
      "   1.38657145  0.41693575  0.26294345  0.60877434]\n",
      " [ 1.09377534  1.90756479  0.25326655 -1.22714478 -1.15168162 -1.43157901\n",
      "  -1.21236435 -0.30205883 -0.          1.52124243 -0.04661025 -1.64388376\n",
      "   0.55270991 -0.94247091 -1.24358125  1.11164633]\n",
      " [ 0.01521072 -0.10215597 -2.23926725 -0.87737019  0.99722844 -0.35807255\n",
      "   0.23281407  1.21182203  1.52124243  0.          1.40686824 -0.29418838\n",
      "   0.44745354 -0.39964979 -0.32584696 -0.91895088]\n",
      " [-0.06133995 -0.93103294 -0.38651376 -1.21929998 -0.11249396  0.97380266\n",
      "  -0.91248501  0.04685737 -0.04661025  1.40686824  0.         -0.3857542\n",
      "  -0.33089802  1.58566848  0.54790604 -1.66936814]\n",
      " [ 0.50529862  0.34496104  0.86622138  0.4143886   1.13080055 -1.70201079\n",
      "   0.15591656  0.37652388 -1.64388376 -0.29418838 -0.3857542  -0.\n",
      "  -0.88627501 -0.95801271  0.59318032 -0.43534254]\n",
      " [ 1.71433541  0.23342034  1.64960995  0.49816448 -0.51888175 -0.24092861\n",
      "  -0.27460384  1.38657145  0.55270991  0.44745354 -0.33089802 -0.88627501\n",
      "  -0.         -1.30167355 -0.84490197  0.32595575]\n",
      " [-0.02057106 -2.21605038 -0.764915   -0.9360532   0.59725608  1.81498948\n",
      "  -0.65419149  0.41693575 -0.94247091 -0.39964979  1.58566848 -0.95801271\n",
      "  -1.30167355  0.         -0.21681436  0.64641763]\n",
      " [-1.28082203  0.20507378  0.03145557  0.53298873 -0.50712264 -0.25167476\n",
      "  -0.27897931  0.26294345 -1.24358125 -0.32584696  0.54790604  0.59318032\n",
      "  -0.84490197 -0.21681436 -0.          0.62165489]\n",
      " [-0.78621307 -0.25891111 -1.22298646 -0.28391474  0.32896865  0.97597333\n",
      "   1.0278505   0.60877434  1.11164633 -0.91895088 -1.66936814 -0.43534254\n",
      "   0.32595575  0.64641763  0.62165489 -0.        ]]\n",
      "b: [[ 0.  0.  0.  0.  0.  0.  0.  0.  0.  0.  0.  0.  0.  0.  0.  0.]]\n"
     ]
    }
   ],
   "source": [
    "# Set dimension of the data vector\n",
    "n = 16\n",
    "\n",
    "# Initialize weight matrix that is symmetric and has zero diagonal entries\n",
    "W = np.triu(np.random.normal(0,1,(n,n)))*(1 - np.eye(n))\n",
    "# W = np.triu(np.random.rand(n,n))*(1 - np.eye(n))\n",
    "W = W + np.transpose(W)\n",
    "# W = 2*W - 1\n",
    "\n",
    "# Ask Gary if the initialization of the W matrix is between 0 and 1 as I will get a all ones dataset\n",
    "\n",
    "# To test if W is symmetric\n",
    "# print (W)\n",
    "# print ((W == np.transpose(W)).all())\n",
    "\n",
    "# Bias vector with binary inputs\n",
    "#b = np.random.randint(2, size = n).reshape(n,-1)\n",
    "b = np.zeros((1,n)).reshape(n,-1)\n",
    "\n",
    "# Seed data vector to generate data\n",
    "x = np.random.randint(2, size = n).reshape(n,-1)\n",
    "\n",
    "print ('x:',np.transpose(x))\n",
    "print ('W:',W)\n",
    "print ('b:',np.transpose(b))"
   ]
  },
  {
   "cell_type": "code",
   "execution_count": 3,
   "metadata": {
    "collapsed": true
   },
   "outputs": [],
   "source": [
    "def sigmoid(x):\n",
    "    return 1/ (1 + np.exp(-x))"
   ]
  },
  {
   "cell_type": "code",
   "execution_count": 4,
   "metadata": {
    "collapsed": true
   },
   "outputs": [],
   "source": [
    "def gen_singledata(x, W, b):\n",
    "#     print (W.dot(x) + b)\n",
    "#     print (sigmoid(W.dot(x) + b))\n",
    "    return np.random.binomial(1,sigmoid(W.dot(x)+b))    "
   ]
  },
  {
   "cell_type": "markdown",
   "metadata": {},
   "source": [
    "To be done: while looping concantenate the data for every thousand."
   ]
  },
  {
   "cell_type": "code",
   "execution_count": 19,
   "metadata": {
    "collapsed": true
   },
   "outputs": [],
   "source": [
    "def gen_data(x, W, b, n, m):\n",
    "    \"\"\"\n",
    "    Generates n*m data and selects one data for every m data generated and \n",
    "    returns a matrix where each row is a dataset.\n",
    "    Inputs:\n",
    "    - x: seed data of shape (n,1) (to generate more data).\n",
    "    - W: a matrix of shape (n,n).\n",
    "    - b: a bias of shape (n,1).\n",
    "    - n: (int) number of data samples generated.\n",
    "    - m: (int) period of each data collected.\n",
    "    \"\"\"\n",
    "    data = np.zeros((n * m,x.shape[0]))\n",
    "    for i in np.arange(n * m):\n",
    "        x = gen_singledata(x, W, b)\n",
    "        data[i,:] = np.transpose(x)\n",
    "        \n",
    "    print (data.shape)\n",
    "    return data[0:n * m :m,:]        "
   ]
  },
  {
   "cell_type": "code",
   "execution_count": 32,
   "metadata": {
    "collapsed": false
   },
   "outputs": [
    {
     "name": "stdout",
     "output_type": "stream",
     "text": [
      "(150, 16)\n",
      "[ 1.  1.  1.  0.  0.  0.  1.  1.  0.  1.  0.  0.  1.  0.  0.  1.]\n"
     ]
    }
   ],
   "source": [
    "data = gen_data(x, W, b, 3, 50)\n",
    "print (data[-1])"
   ]
  },
  {
   "cell_type": "code",
   "execution_count": null,
   "metadata": {
    "collapsed": true
   },
   "outputs": [],
   "source": [
    "data[:]"
   ]
  },
  {
   "cell_type": "code",
   "execution_count": 23,
   "metadata": {
    "collapsed": false
   },
   "outputs": [
    {
     "data": {
      "text/plain": [
       "(3, 16)"
      ]
     },
     "execution_count": 23,
     "metadata": {},
     "output_type": "execute_result"
    }
   ],
   "source": [
    "data.shape"
   ]
  },
  {
   "cell_type": "code",
   "execution_count": 16,
   "metadata": {
    "collapsed": false
   },
   "outputs": [
    {
     "name": "stdout",
     "output_type": "stream",
     "text": [
      "[ 1.  1.  0.  1.  0.  0.  0.  1.  1.  1.  0.  0.  0.  1.  0.  1.]\n",
      "[ 1.  1.  1.  1.  1.  0.  0.  0.  0.  0.  0.  1.  1.  0.  0.  1.]\n",
      "[ 1.  1.  1.  0.  1.  0.  0.  1.  0.  1.  1.  1.  1.  0.  0.  1.]\n",
      "[ 0.  1.  1.  0.  1.  0.  0.  1.  1.  1.  0.  0.  1.  0.  0.  0.]\n",
      "[ 1.  1.  1.  1.  1.  0.  1.  1.  1.  1.  1.  1.  1.  0.  0.  0.]\n",
      "[ 1.  1.  1.  0.  0.  0.  0.  1.  1.  1.  0.  0.  1.  0.  0.  1.]\n",
      "[ 1.  1.  1.  1.  1.  0.  0.  1.  0.  1.  1.  1.  1.  0.  0.  1.]\n",
      "[ 1.  0.  0.  1.  1.  0.  0.  1.  1.  0.  0.  1.  1.  0.  0.  0.]\n",
      "[ 1.  1.  1.  0.  1.  0.  0.  1.  0.  1.  0.  0.  1.  0.  0.  1.]\n",
      "[ 0.  0.  0.  0.  1.  1.  0.  1.  1.  1.  1.  0.  1.  1.  0.  0.]\n"
     ]
    }
   ],
   "source": [
    "for i in np.arange(10):\n",
    "    print (data[i,:])"
   ]
  },
  {
   "cell_type": "code",
   "execution_count": 26,
   "metadata": {
    "collapsed": true
   },
   "outputs": [],
   "source": [
    "t = np.arange(16).reshape(4,4)"
   ]
  },
  {
   "cell_type": "code",
   "execution_count": 30,
   "metadata": {
    "collapsed": false
   },
   "outputs": [
    {
     "data": {
      "text/plain": [
       "array([[ 0,  1,  2,  3],\n",
       "       [ 4,  5,  6,  7],\n",
       "       [ 8,  9, 10, 11],\n",
       "       [12, 13, 14, 15]])"
      ]
     },
     "execution_count": 30,
     "metadata": {},
     "output_type": "execute_result"
    }
   ],
   "source": [
    "t"
   ]
  },
  {
   "cell_type": "code",
   "execution_count": 31,
   "metadata": {
    "collapsed": false
   },
   "outputs": [
    {
     "data": {
      "text/plain": [
       "array([12, 13, 14, 15])"
      ]
     },
     "execution_count": 31,
     "metadata": {},
     "output_type": "execute_result"
    }
   ],
   "source": [
    "t[-1]"
   ]
  },
  {
   "cell_type": "code",
   "execution_count": null,
   "metadata": {
    "collapsed": true
   },
   "outputs": [],
   "source": []
  },
  {
   "cell_type": "code",
   "execution_count": null,
   "metadata": {
    "collapsed": true
   },
   "outputs": [],
   "source": []
  }
 ],
 "metadata": {
  "kernelspec": {
   "display_name": "Python 3",
   "language": "python",
   "name": "python3"
  },
  "language_info": {
   "codemirror_mode": {
    "name": "ipython",
    "version": 3
   },
   "file_extension": ".py",
   "mimetype": "text/x-python",
   "name": "python",
   "nbconvert_exporter": "python",
   "pygments_lexer": "ipython3",
   "version": "3.5.2"
  }
 },
 "nbformat": 4,
 "nbformat_minor": 1
}
