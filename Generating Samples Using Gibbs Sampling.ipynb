{
 "cells": [
  {
   "cell_type": "markdown",
   "metadata": {},
   "source": [
    "# Generating Samples\n",
    "----\n",
    "### Introduction\n",
    "Here we want to generate binary samples of length $v$ using Gibbs sampling based on a prior distribution based on a $v \\times v$ matrix $W$ initialized from a known distribution. Using the samples generated, we would eventually want to reproduce/learn the matrix $W$ from the samples using minimum probability flow."
   ]
  },
  {
   "cell_type": "code",
   "execution_count": null,
   "metadata": {
    "collapsed": true
   },
   "outputs": [],
   "source": []
  },
  {
   "cell_type": "code",
   "execution_count": 1,
   "metadata": {
    "collapsed": true
   },
   "outputs": [],
   "source": [
    "import numpy as np\n",
    "import matplotlib.pyplot as plt\n",
    "import seaborn as sns; sns.set()\n",
    "\n",
    "% matplotlib inline"
   ]
  },
  {
   "cell_type": "markdown",
   "metadata": {},
   "source": [
    "We shall consider a network with $v$ vertices where each vertex is binary. For a network with $v$ vertices, there are $2^v$ possibles binary states. We initialize an initial state of the network using the Bernoulli distribution with success probability $p$."
   ]
  },
  {
   "cell_type": "code",
   "execution_count": 19,
   "metadata": {
    "collapsed": true
   },
   "outputs": [],
   "source": [
    "# Number of neurons:\n",
    "v = 5\n",
    "# Success probability:\n",
    "p = 0.5"
   ]
  },
  {
   "cell_type": "code",
   "execution_count": 20,
   "metadata": {
    "collapsed": false
   },
   "outputs": [
    {
     "name": "stdout",
     "output_type": "stream",
     "text": [
      "Initial states:  [1 1 1 1 0]\n"
     ]
    }
   ],
   "source": [
    "np.random.seed(0)\n",
    "initialState = np.random.binomial(1, p, v)\n",
    "print ('Initial states: ',initialState)"
   ]
  },
  {
   "cell_type": "markdown",
   "metadata": {},
   "source": [
    "We now initialize a $v$ by $v$ matrix $W$ with each entry drawn from a standard normal distribution, $N(0,1)$. For each entry in the matrix, $W_{ij}$ denotes the parameter/weight associated with the connection from unit $i$ to $j$ (can we think of it as the conditional weight of $v^{(t+1)}_i=1$ given $v^{(t)}_j=1$?). Here we save the matrix $W$ so we can verify the learning by MPF. \n",
    "\n",
    "(Personal notes: Later, we will learn that initializing the matrix $W$ with zero diagonals will make it easier in the generation of samples.)"
   ]
  },
  {
   "cell_type": "code",
   "execution_count": 6,
   "metadata": {
    "collapsed": false
   },
   "outputs": [
    {
     "name": "stdout",
     "output_type": "stream",
     "text": [
      "[[ 1.76405235 -0.28856034  0.56139078  1.28728376 -0.34271591]\n",
      " [-0.28856034  0.95008842  0.65145815  0.69543011  0.53210855]\n",
      " [ 0.56139078  0.65145815  0.76103773 -0.04174162  0.65414972]\n",
      " [ 1.28728376  0.69543011 -0.04174162  0.3130677  -0.79813038]\n",
      " [-0.34271591  0.53210855  0.65414972 -0.79813038  2.26975462]]\n"
     ]
    }
   ],
   "source": [
    "np.random.seed(0)\n",
    "# Get a symmetric matrix with diagonal all zeros\n",
    "W = np.random.normal(0, 1, (v,v))\n",
    "W = 0.5 * (W + np.transpose(W))\n",
    "\n",
    "# To save and load W matrix\n",
    "np.save('W.dat', W)\n",
    "# W = np.load('W.dat')\n",
    "print (W)"
   ]
  },
  {
   "cell_type": "markdown",
   "metadata": {},
   "source": [
    "### How to do Gibbs Sampling\n",
    "The reason for doing Gibbs sampling is to generate samples $\\mathcal{S}$ from known parameters $W$ and then use MPF to learn the parameters $W$ using $\\mathcal{S}$. To sample from this multivariate distribution, we start with an initial state obtained from a prior belief, following which sampling from the conditional distribution is done to get a new state of a **vertex**. Thus if we were to sample each vertex sequentially, a network with $v$ vertices would require sampling from (different) conditional distributions $v$ times for a new state of the network to be obtained.\n",
    "\n",
    "#### Algorithm: Gibbs sampler (cycle)\n",
    "1. Initialize $\\mathbf{x^{(0)}}=(x_1^{(0)},\\ldots,x_v^{(0)})$ base on some prior belief.\n",
    "2. For $i = 1,2, \\ldots$\n",
    "    - sample $X_1^{(i)}\\sim \\mathbb{P}(X_1^{(i)}=x_1^{(i)}\\mid X_2=x_2^{(i-1)},\\ldots,X_v=x_v^{(i-1)})$\n",
    "    - sample $X_2^{(i)}\\sim \\mathbb{P}(X_2^{(i)}=x_2^{(i)}\\mid X_1=x_1^{(i)},X_3=x_3^{(i-1)}\\ldots,X_v=x_v^{(i-1)})$\n",
    "    - in general, sample $X_j^{(i)}\\sim \\mathbb{P}(X_{j}^{(i)}=x_{j}^{(i)}\\mid X_1=x_1^{(i)},\\ldots, X_{j-1}=x_{j-1}^{(i)},X_{j+1}=x_{j+1}^{(i-1)},\\ldots,X_v=x_v^{(i-1)})$ for $j=1,2, \\ldots v$, which then generates a new state for the network.\n",
    "\n",
    "There is also another variation of the Gibbs sampler called the **random scan** where the update of the state of the vertex is not in a cycle but done in a random manner. Below are some functions that are defined for the implementation of the Gibbs sampler."
   ]
  },
  {
   "cell_type": "code",
   "execution_count": 15,
   "metadata": {
    "collapsed": true
   },
   "outputs": [],
   "source": [
    "def sigmoid(x):\n",
    "    \"\"\"\n",
    "    Takes in a vector x and returns its sigmoid activation.\n",
    "    Input:\n",
    "    - x: a numpy array\n",
    "    \"\"\"\n",
    "    return 1/(1 + np.exp(-x))\n",
    "\n",
    "\n",
    "def single_unit_update(initialState, W, v):\n",
    "    \"\"\"\n",
    "    Returns the new states and the state of the vth vertex that has been updated conditioned on the other units\n",
    "    Input:\n",
    "    - initialState: a numpy array of binary values denoting the initial state of the nodes.\n",
    "    - W: a 2d numpy array of values that the prior distribution is based from. \n",
    "    - v: (int) the state of the vertex to be updated.\n",
    "    \"\"\"\n",
    "    stateSize = initialState.shape[0]\n",
    "    newState = initialState\n",
    "#     Here we see that to update a single vertex state we only use the weights Wij for i not \n",
    "#     equal to j and hence the reason to set the diagonals to be zero earlier. But since \n",
    "#     we did not we have to kill off the diagonals of W here.\n",
    "    prob = sigmoid((W - (W * np.eye(stateSize))).dot(initialState))\n",
    "    newState[v] = np.random.binomial(1, prob[v], 1)\n",
    "#     print (initialState[n], newState[n])\n",
    "    return newState, newState[v]\n",
    "\n",
    "\n",
    "def gibbs_sample(initialState, W):\n",
    "    \"\"\"\n",
    "    Returns the new state of the network after updating all v units sequentially, given an initialized state \n",
    "    of the network and weight matrix W.\n",
    "    Input:\n",
    "    - initialState: a numpy array of binary values denoting the initial state of the nodes.\n",
    "    - W: a 2d numpy array.\n",
    "    \"\"\"\n",
    "#     print ('initialState:', initialState)\n",
    "    stateSize = initialState.shape\n",
    "    newState = np.zeros(stateSize)\n",
    "    for i in range(stateSize[0]):\n",
    "#         print ('Changing the state for unit %d...'% i)\n",
    "        initialState, vertexState = single_unit_update(initialState, W, i)\n",
    "#         print ('Old unit state is %d, new unit state is %d'% (initialState[i], unitState))\n",
    "        newState[i] = vertexState  \n",
    "#     print ('newState:', newState)\n",
    "    return newState    \n",
    "\n",
    "def ran_gibbs_sample(initialState, W):\n",
    "    \"\"\"\n",
    "    Returns the new state of the network after updating all v units sequentially, given an initialized state \n",
    "    of the network and weight matrix W.\n",
    "    Input:\n",
    "    - initialState: a numpy array of binary values denoting the initial state of the nodes.\n",
    "    - W: a 2d numpy array.\n",
    "    \"\"\"\n",
    "#     print ('initialState:', initialState)\n",
    "    stateSize = initialState.shape\n",
    "    newState = np.zeros(stateSize)\n",
    "    for i in range(stateSize[0]):\n",
    "#         print ('Changing the state for unit %d...'% i)\n",
    "        initialState, vertexState = single_unit_update(initialState, W, i)\n",
    "#         print ('Old unit state is %d, new unit state is %d'% (initialState[i], unitState))\n",
    "        newState[i] = vertexState  \n",
    "#     print ('newState:', newState)\n",
    "    return newState    \n",
    "\n",
    "\n",
    "\n",
    "def multi_gibbs_sample(initialState, W, n):\n",
    "    \"\"\"\n",
    "    Performs gibbs sampling n times with a given initial state and prior distribution matrix W\n",
    "    and stores each sample as a row.\n",
    "    Input:\n",
    "    - initialState: a numpy array of binary values denoting the initial state of the nodes.\n",
    "    - W: a 2d numpy array of values that the prior distribution is based from. \n",
    "    - n: (int) number of samples to be drawn.\n",
    "    \"\"\"\n",
    "    stateSize = initialState.shape[0]\n",
    "    sample = np.zeros((n, stateSize))\n",
    "    for i in range(n):\n",
    "        sample[i, :] = gibbs_sample(initialState, W)\n",
    "    return sample    \n",
    "        "
   ]
  },
  {
   "cell_type": "code",
   "execution_count": 17,
   "metadata": {
    "collapsed": false
   },
   "outputs": [
    {
     "name": "stdout",
     "output_type": "stream",
     "text": [
      "Changing the state for unit 0...\n",
      "Old unit state is 1, new unit state is 1\n",
      "Changing the state for unit 1...\n",
      "Old unit state is 1, new unit state is 1\n",
      "Changing the state for unit 2...\n",
      "Old unit state is 1, new unit state is 1\n",
      "Changing the state for unit 3...\n",
      "Old unit state is 0, new unit state is 0\n",
      "Changing the state for unit 4...\n",
      "Old unit state is 1, new unit state is 1\n",
      "Changing the state for unit 0...\n",
      "Old unit state is 0, new unit state is 0\n",
      "Changing the state for unit 1...\n",
      "Old unit state is 1, new unit state is 1\n",
      "Changing the state for unit 2...\n",
      "Old unit state is 1, new unit state is 1\n",
      "Changing the state for unit 3...\n",
      "Old unit state is 0, new unit state is 0\n",
      "Changing the state for unit 4...\n",
      "Old unit state is 1, new unit state is 1\n",
      "Changing the state for unit 0...\n",
      "Old unit state is 0, new unit state is 0\n",
      "Changing the state for unit 1...\n",
      "Old unit state is 1, new unit state is 1\n",
      "Changing the state for unit 2...\n",
      "Old unit state is 1, new unit state is 1\n",
      "Changing the state for unit 3...\n",
      "Old unit state is 1, new unit state is 1\n",
      "Changing the state for unit 4...\n",
      "Old unit state is 1, new unit state is 1\n",
      "Changing the state for unit 0...\n",
      "Old unit state is 1, new unit state is 1\n",
      "Changing the state for unit 1...\n",
      "Old unit state is 1, new unit state is 1\n",
      "Changing the state for unit 2...\n",
      "Old unit state is 1, new unit state is 1\n",
      "Changing the state for unit 3...\n",
      "Old unit state is 1, new unit state is 1\n",
      "Changing the state for unit 4...\n",
      "Old unit state is 0, new unit state is 0\n",
      "Changing the state for unit 0...\n",
      "Old unit state is 1, new unit state is 1\n",
      "Changing the state for unit 1...\n",
      "Old unit state is 0, new unit state is 0\n",
      "Changing the state for unit 2...\n",
      "Old unit state is 1, new unit state is 1\n",
      "Changing the state for unit 3...\n",
      "Old unit state is 0, new unit state is 0\n",
      "Changing the state for unit 4...\n",
      "Old unit state is 0, new unit state is 0\n",
      "Changing the state for unit 0...\n",
      "Old unit state is 0, new unit state is 0\n",
      "Changing the state for unit 1...\n",
      "Old unit state is 1, new unit state is 1\n",
      "Changing the state for unit 2...\n",
      "Old unit state is 1, new unit state is 1\n",
      "Changing the state for unit 3...\n",
      "Old unit state is 1, new unit state is 1\n",
      "Changing the state for unit 4...\n",
      "Old unit state is 1, new unit state is 1\n",
      "Changing the state for unit 0...\n",
      "Old unit state is 1, new unit state is 1\n",
      "Changing the state for unit 1...\n",
      "Old unit state is 1, new unit state is 1\n",
      "Changing the state for unit 2...\n",
      "Old unit state is 1, new unit state is 1\n",
      "Changing the state for unit 3...\n",
      "Old unit state is 1, new unit state is 1\n",
      "Changing the state for unit 4...\n",
      "Old unit state is 0, new unit state is 0\n",
      "Changing the state for unit 0...\n",
      "Old unit state is 1, new unit state is 1\n",
      "Changing the state for unit 1...\n",
      "Old unit state is 1, new unit state is 1\n",
      "Changing the state for unit 2...\n",
      "Old unit state is 1, new unit state is 1\n",
      "Changing the state for unit 3...\n",
      "Old unit state is 1, new unit state is 1\n",
      "Changing the state for unit 4...\n",
      "Old unit state is 0, new unit state is 0\n",
      "Changing the state for unit 0...\n",
      "Old unit state is 0, new unit state is 0\n",
      "Changing the state for unit 1...\n",
      "Old unit state is 1, new unit state is 1\n",
      "Changing the state for unit 2...\n",
      "Old unit state is 0, new unit state is 0\n",
      "Changing the state for unit 3...\n",
      "Old unit state is 1, new unit state is 1\n",
      "Changing the state for unit 4...\n",
      "Old unit state is 1, new unit state is 1\n",
      "Changing the state for unit 0...\n",
      "Old unit state is 1, new unit state is 1\n",
      "Changing the state for unit 1...\n",
      "Old unit state is 1, new unit state is 1\n",
      "Changing the state for unit 2...\n",
      "Old unit state is 1, new unit state is 1\n",
      "Changing the state for unit 3...\n",
      "Old unit state is 1, new unit state is 1\n",
      "Changing the state for unit 4...\n",
      "Old unit state is 0, new unit state is 0\n"
     ]
    }
   ],
   "source": [
    "s = multi_gibbs_sample(initialState, W, 10)"
   ]
  },
  {
   "cell_type": "code",
   "execution_count": 18,
   "metadata": {
    "collapsed": false
   },
   "outputs": [
    {
     "data": {
      "text/plain": [
       "array([[ 1.,  1.,  1.,  0.,  1.],\n",
       "       [ 0.,  1.,  1.,  0.,  1.],\n",
       "       [ 0.,  1.,  1.,  1.,  1.],\n",
       "       [ 1.,  1.,  1.,  1.,  0.],\n",
       "       [ 1.,  0.,  1.,  0.,  0.],\n",
       "       [ 0.,  1.,  1.,  1.,  1.],\n",
       "       [ 1.,  1.,  1.,  1.,  0.],\n",
       "       [ 1.,  1.,  1.,  1.,  0.],\n",
       "       [ 0.,  1.,  0.,  1.,  1.],\n",
       "       [ 1.,  1.,  1.,  1.,  0.]])"
      ]
     },
     "execution_count": 18,
     "metadata": {},
     "output_type": "execute_result"
    }
   ],
   "source": [
    "s"
   ]
  },
  {
   "cell_type": "code",
   "execution_count": null,
   "metadata": {
    "collapsed": true
   },
   "outputs": [],
   "source": []
  },
  {
   "cell_type": "code",
   "execution_count": null,
   "metadata": {
    "collapsed": true
   },
   "outputs": [],
   "source": []
  },
  {
   "cell_type": "code",
   "execution_count": null,
   "metadata": {
    "collapsed": true
   },
   "outputs": [],
   "source": []
  },
  {
   "cell_type": "code",
   "execution_count": null,
   "metadata": {
    "collapsed": true
   },
   "outputs": [],
   "source": []
  }
 ],
 "metadata": {
  "kernelspec": {
   "display_name": "Python 3",
   "language": "python",
   "name": "python3"
  },
  "language_info": {
   "codemirror_mode": {
    "name": "ipython",
    "version": 3
   },
   "file_extension": ".py",
   "mimetype": "text/x-python",
   "name": "python",
   "nbconvert_exporter": "python",
   "pygments_lexer": "ipython3",
   "version": "3.5.2"
  }
 },
 "nbformat": 4,
 "nbformat_minor": 0
}
