{
 "cells": [
  {
   "cell_type": "markdown",
   "metadata": {},
   "source": [
    "# Minimum probability flow"
   ]
  },
  {
   "cell_type": "markdown",
   "metadata": {},
   "source": [
    "In this exercise we will **~write the purpose of this tutorial here~**"
   ]
  },
  {
   "cell_type": "code",
   "execution_count": 1,
   "metadata": {
    "collapsed": true
   },
   "outputs": [],
   "source": [
    "import numpy as np\n",
    "import theano.tensor as T"
   ]
  },
  {
   "cell_type": "markdown",
   "metadata": {},
   "source": [
    "## Preparation\n",
    "To get started we first have to prepare the data to work with. The steps to synthesis the data are as follows:\n",
    "1. Form a $n \\times n$ matrix $W$ that is symmetric with diagonal entries set to zeros.\n",
    "2. The bias vector is $n \\times 1$ that is either set to zero or takes binary inputs.\n",
    "3. Initialise a vector of size $n$ that has binary entries, $x^{(1)}$, which is used to generate the subsequent sample values.\n",
    "4. Given $x^{(i)}$, for each row $j$\n",
    "\\begin{align*}\n",
    "p_{j}^{(i+1)} &= \\sigma\\left(\\sum_{k=1}^{n}w_{jk}x_{k}^{(i)}\\right)\\\\\n",
    "%x_{j}^{(i+1)}&=\\sigma(\\tilde{x}_{j}^{(i+1)})\n",
    "\\end{align*}\n",
    "where $\\sigma$ is the sigmoid function, thus produces a row of values between 0 and 1. Each entry of $x_j^{(i+1)}$ is Bernoulli distributed with parameter $p_{j}^{(i+1)}$.\n",
    "The requirement of being symmetric with diagonal entries set to zero for $W$ is necessary for the data to be 'good'. Shall elaborate on the good later."
   ]
  },
  {
   "cell_type": "code",
   "execution_count": 2,
   "metadata": {
    "collapsed": false
   },
   "outputs": [],
   "source": [
    "# Set dimension of the data vector\n",
    "n = 16\n",
    "\n",
    "# Initialize weight matrix that is symmetric and has zero diagonal entries\n",
    "W = np.triu(np.random.normal(0,1,(n,n)))*(1 - np.eye(n))\n",
    "# W = np.triu(np.random.rand(n,n))*(1 - np.eye(n))\n",
    "W = W + np.transpose(W)\n",
    "# W = 2*W - 1\n",
    "\n",
    "# To test if W is symmetric\n",
    "# print (W)\n",
    "# print ((W == np.transpose(W)).all())\n",
    "\n",
    "# Bias vector with binary inputs\n",
    "#b = np.random.randint(2, size = n).reshape(n,-1)\n",
    "b = np.zeros((1,n)).reshape(n,-1)\n",
    "\n",
    "# Seed data vector to generate data\n",
    "x = np.random.randint(2, size = n).reshape(n,-1)\n",
    "\n",
    "# print ('x:',np.transpose(x))\n",
    "# print ('W:',W)\n",
    "# print ('b:',np.transpose(b))"
   ]
  },
  {
   "cell_type": "code",
   "execution_count": 3,
   "metadata": {
    "collapsed": true
   },
   "outputs": [],
   "source": [
    "def sigmoid(x):\n",
    "    return 1/ (1 + np.exp(-x))"
   ]
  },
  {
   "cell_type": "code",
   "execution_count": 5,
   "metadata": {
    "collapsed": true
   },
   "outputs": [],
   "source": [
    "def gen_singledata(x, W, b):\n",
    "    \"\"\"\n",
    "    Generates a single data with the formula W*x+b.\n",
    "    - x: (numpy array) data of shape (n,1).\n",
    "    - W: (numpy array) a weight matrix of shape (n,n).\n",
    "    - b: (numpy array) a bias of shape (n,1).\n",
    "    \"\"\"\n",
    "#     print (W.dot(x) + b)\n",
    "#     print (sigmoid(W.dot(x) + b))\n",
    "    return np.random.binomial(1,sigmoid(W.dot(x)+b))    "
   ]
  },
  {
   "cell_type": "code",
   "execution_count": 15,
   "metadata": {
    "collapsed": true
   },
   "outputs": [],
   "source": [
    "def gen_data(x, W, b, n, m):\n",
    "    \"\"\"\n",
    "    Generates n*m data and selects one data for every m data generated and \n",
    "    returns a matrix where each row is a dataset.\n",
    "    Inputs:\n",
    "    - x: (numpy array) seed data of shape (n,1) (to generate more data).\n",
    "    - W: (numpy array) a weight matrix of shape (n,n).\n",
    "    - b: (numpy array) a bias of shape (n,1).\n",
    "    - n: (int) number of data samples generated.\n",
    "    - m: (int) period of each data collected.\n",
    "    \"\"\"\n",
    "    data = np.zeros((n * m,x.shape[0]))\n",
    "    for i in np.arange(n * m):\n",
    "        x = gen_singledata(x, W, b)\n",
    "        data[i,:] = np.transpose(x)\n",
    "    print (data.shape)    \n",
    "    return data[0:n * m :m,:]        "
   ]
  },
  {
   "cell_type": "code",
   "execution_count": null,
   "metadata": {
    "collapsed": true
   },
   "outputs": [],
   "source": []
  }
 ],
 "metadata": {
  "kernelspec": {
   "display_name": "Python 3",
   "language": "python",
   "name": "python3"
  },
  "language_info": {
   "codemirror_mode": {
    "name": "ipython",
    "version": 3
   },
   "file_extension": ".py",
   "mimetype": "text/x-python",
   "name": "python",
   "nbconvert_exporter": "python",
   "pygments_lexer": "ipython3",
   "version": "3.5.2"
  }
 },
 "nbformat": 4,
 "nbformat_minor": 1
}
