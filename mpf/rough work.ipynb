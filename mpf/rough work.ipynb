{
 "cells": [
  {
   "cell_type": "code",
   "execution_count": 1,
   "metadata": {
    "collapsed": true
   },
   "outputs": [],
   "source": [
    "import numpy as np\n",
    "import theano\n",
    "import theano.tensor as T\n",
    "\n",
    "import timeit"
   ]
  },
  {
   "cell_type": "code",
   "execution_count": 2,
   "metadata": {
    "collapsed": true
   },
   "outputs": [],
   "source": [
    "def load_data(dataset = 'gibbs-sample.dat.npy', borrow = True):\n",
    "    \"\"\"\n",
    "    Loads the dataset.\n",
    "    \"\"\"\n",
    "    data = np.load(dataset)\n",
    "    dataset = theano.shared(np.asarray(data, dtype = theano.config.floatX), borrow = borrow)\n",
    "        \n",
    "    return dataset   "
   ]
  },
  {
   "cell_type": "code",
   "execution_count": 3,
   "metadata": {
    "collapsed": false
   },
   "outputs": [],
   "source": [
    "class mpf(object):\n",
    "    \"\"\"\n",
    "    Minimum probability flow\n",
    "    \"\"\"\n",
    "    def __init__(self, input, n, epsilon = 0.01):\n",
    "        \"\"\"\n",
    "        Initialize the parameters of the MPF network\n",
    "        \"\"\"\n",
    "        \n",
    "        self.W = theano.shared(value = np.zeros((n, n), dtype = theano.config.floatX), name = 'W', borrow = True)\n",
    "        self.b = theano.shared(value = np.zeros((1, n), dtype = theano.config.floatX), name = 'b', borrow = True)\n",
    "        \n",
    "        self.z = T.dot(input, self.W) + self.b\n",
    "        \n",
    "        self.params = [self.W, self.b]\n",
    "        \n",
    "        self.input = input\n",
    "       \n",
    "    \n",
    "    def Kcost(self, epsilon = 0.01):\n",
    "        \"\"\"\n",
    "        Returns the cost.\n",
    "        Inputs:\n",
    "        - data: numpy array of data that contains the different states of the network of size n\n",
    "        - W: (n, n) numpy array of the weight matrix\n",
    "        - b: (1, n) numpy array of biases\n",
    "        - espilon: parameter for the cost\n",
    "        \"\"\"\n",
    "        return T.mean(T.exp((0.5 - self.input) * self.z)) * epsilon\n",
    "    \n",
    "\n",
    "def sgd_opt(learning_rate = 0.01, n_epochs = 50, dataset = 'gibbs-sample.dat.npy', batch_size = 500):\n",
    "    \"\"\"\n",
    "    Perform stochastic gradient descent on MPF.\n",
    "\n",
    "    \"\"\"\n",
    "    print ('Loading the file', dataset+'...')\n",
    "    \n",
    "    dataset = load_data()\n",
    "\n",
    "    n_dataset_batches = dataset.get_value(borrow = True).shape[0] // batch_size\n",
    "\n",
    "    print ('Building the model...')\n",
    "\n",
    "    index = T.lscalar()\n",
    "\n",
    "    x = T.matrix('x')\n",
    "\n",
    "    energy = mpf(input = x, n = 16)\n",
    "\n",
    "    cost = energy.Kcost()\n",
    "\n",
    "    grad_W = T.grad(cost = cost, wrt = energy.W)\n",
    "    grad_b = T.grad(cost = cost, wrt = energy.b)\n",
    "\n",
    "    updates = [(energy.W, energy.W - learning_rate * grad_W), (energy.b, energy.b - learning_rate * grad_b)]\n",
    "\n",
    "    train_model = theano.function(inputs = [index],\n",
    "                                outputs = cost,\n",
    "                                updates = updates,\n",
    "                                givens = {x: dataset[index * batch_size: (index + 1) * batch_size, :]} )\n",
    "\n",
    "    print ('Training the model...')\n",
    "\n",
    "    done_looping = False\n",
    "    epoch = 0\n",
    "    while (epoch < n_epochs) and (not done_looping):\n",
    "        epoch = epoch + 1\n",
    "        for minibatch_index in range(n_dataset_batches):\n",
    "            minibatch_avg_cost = train_model(minibatch_index)\n",
    "            print (minibatch_avg_cost)\n",
    "#                 iter = (epoch - 1) * n_dataset_batches + minibatch_index\n",
    "                \n",
    "#                 if (iter + 1) % validation_frequency == 0:\n",
    "        \n",
    "        \n",
    "#         patience = 5000\n",
    "#         patience_increase = 2\n",
    "#         improvement_threshold = 0.995\n",
    "#         validation_frequency = min(n_dataset_batches, patience // 2)\n",
    "        \n",
    "#         best_validation_lost = np.inf\n",
    "#         test_score = 0.\n",
    "#         start_time = timeit.default_timer()\n",
    "        \n",
    "#         done_looping = False\n",
    "#         epoch = 0\n",
    "#         while (epoch < n_epoch) and (not done_looping):\n",
    "#             epoch = epoch + 1\n",
    "#             for minibatch_index in range(n_dataset_batches):\n",
    "#                 minibatch_avg_cost = train_model(minibatch_index)\n",
    "#                 iter = (epoch - 1) * n_dataset_batches + minibatch_index\n",
    "                \n",
    "#                 if (iter + 1) % validation_frequency == 0:\n",
    "                    \n",
    "        \n",
    "        \n",
    "        \n",
    "        \n",
    "        \n",
    "        \n",
    "        "
   ]
  },
  {
   "cell_type": "code",
   "execution_count": null,
   "metadata": {
    "collapsed": true
   },
   "outputs": [],
   "source": []
  },
  {
   "cell_type": "code",
   "execution_count": 4,
   "metadata": {
    "collapsed": true
   },
   "outputs": [],
   "source": [
    "dataset = load_data()"
   ]
  },
  {
   "cell_type": "code",
   "execution_count": null,
   "metadata": {
    "collapsed": false
   },
   "outputs": [],
   "source": [
    "index = T.lscalar()\n",
    "\n",
    "x = T.matrix('x')\n",
    "\n",
    "learning_rate = 0.01\n",
    "batch_size = 500\n",
    "\n",
    "energy = mpf(input = x, n = 16)\n",
    "cost = energy.Kcost()\n",
    "\n",
    "grad_W = T.grad(cost = cost, wrt = energy.W)\n",
    "grad_b = T.grad(cost = cost, wrt = energy.b)\n",
    "\n",
    "updates = [(energy.W, energy.W - learning_rate * grad_W), (energy.b, energy.b - learning_rate * grad_b)]\n",
    "\n",
    "train_model = theano.function(inputs = [index],\n",
    "                            outputs = cost,\n",
    "                            updates = updates,\n",
    "                            givens = {x: dataset[index * batch_size: (index + 1) * batch_size, :]} )\n",
    "\n",
    "n_dataset_batches = dataset.get_value(borrow = True).shape[0] // batch_size\n",
    "\n",
    "\n",
    "for minibatch_index in range(n_dataset_batches):\n",
    "            minibatch_avg_cost = train_model(minibatch_index)\n",
    "            print (minibatch_avg_cost)\n"
   ]
  },
  {
   "cell_type": "code",
   "execution_count": null,
   "metadata": {
    "collapsed": false
   },
   "outputs": [],
   "source": [
    "train_model(0)"
   ]
  },
  {
   "cell_type": "code",
   "execution_count": null,
   "metadata": {
    "collapsed": true
   },
   "outputs": [],
   "source": []
  }
 ],
 "metadata": {
  "kernelspec": {
   "display_name": "Python 3",
   "language": "python",
   "name": "python3"
  },
  "language_info": {
   "codemirror_mode": {
    "name": "ipython",
    "version": 3
   },
   "file_extension": ".py",
   "mimetype": "text/x-python",
   "name": "python",
   "nbconvert_exporter": "python",
   "pygments_lexer": "ipython3",
   "version": "3.5.2"
  }
 },
 "nbformat": 4,
 "nbformat_minor": 0
}
