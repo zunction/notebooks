{
 "cells": [
  {
   "cell_type": "code",
   "execution_count": 1,
   "metadata": {
    "collapsed": true
   },
   "outputs": [],
   "source": [
    "import numpy as np\n",
    "import theano\n",
    "import theano.tensor as T\n",
    "\n",
    "import timeit"
   ]
  },
  {
   "cell_type": "code",
   "execution_count": 2,
   "metadata": {
    "collapsed": true
   },
   "outputs": [],
   "source": [
    "def load_data(dataset = 'gibbs-sample.dat.npy', borrow = True):\n",
    "    \"\"\"\n",
    "    Loads the dataset.\n",
    "    \"\"\"\n",
    "    data = np.load(dataset)\n",
    "    dataset = theano.shared(np.asarray(data, dtype = theano.config.floatX), borrow = borrow)\n",
    "        \n",
    "    return dataset   "
   ]
  },
  {
   "cell_type": "code",
   "execution_count": 46,
   "metadata": {
    "collapsed": false
   },
   "outputs": [],
   "source": [
    "class mpf(object):\n",
    "    \"\"\"\n",
    "    Minimum probability flow\n",
    "    \"\"\"\n",
    "    def __init__(self, input, n, epsilon = 0.01):\n",
    "        \"\"\"\n",
    "        Initialize the parameters of the MPF network\n",
    "        \"\"\"\n",
    "        \n",
    "        self.W = theano.shared(value = np.zeros((n, n), dtype = theano.config.floatX), name = 'W', borrow = True)\n",
    "        self.b = theano.shared(value = np.zeros((1, n), dtype = theano.config.floatX), name = 'b', borrow = True)\n",
    "        self.z = T.dot(input, self.W) + self.b\n",
    "        \n",
    "        self.params = [self.W, self.b]\n",
    "        \n",
    "        self.input = input\n",
    "       \n",
    "    \n",
    "    def Kcost(self, epsilon = 0.01):\n",
    "        \"\"\"\n",
    "        Returns the cost.\n",
    "        Inputs:\n",
    "        - data: numpy array of data that contains the different states of the network of size n\n",
    "        - W: (n, n) numpy array of the weight matrix\n",
    "        - b: (1, n) numpy array of biases\n",
    "        - espilon: parameter for the cost\n",
    "        \"\"\"\n",
    "#         return T.mean(T.exp((0.5 - self.input) * self.z)) * epsilon\n",
    "        return (0.5 - self.input) * self.z\n",
    "        \n",
    "# PROBLEM IS THE ABOVE RETURN LINE!!!!!!\n",
    "    \n",
    "\n",
    "def sgd_opt(learning_rate = 0.01, n_epochs = 50, dataset = 'gibbs-sample.dat.npy', batch_size = 500):\n",
    "    \"\"\"\n",
    "    Perform stochastic gradient descent on MPF.\n",
    "\n",
    "    \"\"\"\n",
    "    print ('Loading the file', dataset+'...')\n",
    "    \n",
    "    dataset = load_data()\n",
    "\n",
    "    n_dataset_batches = dataset.get_value(borrow = True).shape[0] // batch_size\n",
    "\n",
    "    print ('Building the model...')\n",
    "\n",
    "    index = T.lscalar()\n",
    "\n",
    "    x = T.matrix('x')\n",
    "\n",
    "    energy = mpf(input = x, n = 16)\n",
    "\n",
    "    cost = energy.Kcost()\n",
    "\n",
    "    grad_W = T.grad(cost = cost, wrt = energy.W)\n",
    "    grad_b = T.grad(cost = cost, wrt = energy.b)\n",
    "\n",
    "    updates = [(energy.W, energy.W - learning_rate * grad_W), (energy.b, energy.b - learning_rate * grad_b)]\n",
    "\n",
    "    train_model = theano.function(inputs = [index],\n",
    "                                outputs = cost,\n",
    "                                updates = updates,\n",
    "                                givens = {x: dataset[index * batch_size: (index + 1) * batch_size, :]} )\n",
    "\n",
    "    print ('Training the model...')\n",
    "\n",
    "    done_looping = False\n",
    "    epoch = 0\n",
    "    while (epoch < n_epochs) and (not done_looping):\n",
    "        epoch = epoch + 1\n",
    "        for minibatch_index in range(n_dataset_batches):\n",
    "            minibatch_avg_cost = train_model(minibatch_index)\n",
    "            print (minibatch_avg_cost)\n",
    "#                 iter = (epoch - 1) * n_dataset_batches + minibatch_index\n",
    "                \n",
    "#                 if (iter + 1) % validation_frequency == 0:\n",
    "        \n",
    "        \n",
    "#         patience = 5000\n",
    "#         patience_increase = 2\n",
    "#         improvement_threshold = 0.995\n",
    "#         validation_frequency = min(n_dataset_batches, patience // 2)\n",
    "        \n",
    "#         best_validation_lost = np.inf\n",
    "#         test_score = 0.\n",
    "#         start_time = timeit.default_timer()\n",
    "        \n",
    "#         done_looping = False\n",
    "#         epoch = 0\n",
    "#         while (epoch < n_epoch) and (not done_looping):\n",
    "#             epoch = epoch + 1\n",
    "#             for minibatch_index in range(n_dataset_batches):\n",
    "#                 minibatch_avg_cost = train_model(minibatch_index)\n",
    "#                 iter = (epoch - 1) * n_dataset_batches + minibatch_index\n",
    "                \n",
    "#                 if (iter + 1) % validation_frequency == 0:\n",
    "                    \n",
    "        \n",
    "        \n",
    "        \n",
    "        \n",
    "        \n",
    "        \n",
    "        "
   ]
  },
  {
   "cell_type": "code",
   "execution_count": null,
   "metadata": {
    "collapsed": true
   },
   "outputs": [],
   "source": []
  },
  {
   "cell_type": "code",
   "execution_count": 10,
   "metadata": {
    "collapsed": true
   },
   "outputs": [],
   "source": [
    "dataset = load_data()"
   ]
  },
  {
   "cell_type": "code",
   "execution_count": 47,
   "metadata": {
    "collapsed": false
   },
   "outputs": [
    {
     "ename": "TypeError",
     "evalue": "cost must be a scalar.",
     "output_type": "error",
     "traceback": [
      "\u001b[0;31m---------------------------------------------------------------------------\u001b[0m",
      "\u001b[0;31mTypeError\u001b[0m                                 Traceback (most recent call last)",
      "\u001b[0;32m<ipython-input-47-630d79ec87d3>\u001b[0m in \u001b[0;36m<module>\u001b[0;34m()\u001b[0m\n\u001b[1;32m      9\u001b[0m \u001b[0mcost\u001b[0m \u001b[0;34m=\u001b[0m \u001b[0menergy\u001b[0m\u001b[0;34m.\u001b[0m\u001b[0mKcost\u001b[0m\u001b[0;34m(\u001b[0m\u001b[0;34m)\u001b[0m\u001b[0;34m\u001b[0m\u001b[0m\n\u001b[1;32m     10\u001b[0m \u001b[0;34m\u001b[0m\u001b[0m\n\u001b[0;32m---> 11\u001b[0;31m \u001b[0mgrad_W\u001b[0m \u001b[0;34m=\u001b[0m \u001b[0mT\u001b[0m\u001b[0;34m.\u001b[0m\u001b[0mgrad\u001b[0m\u001b[0;34m(\u001b[0m\u001b[0mcost\u001b[0m \u001b[0;34m=\u001b[0m \u001b[0mcost\u001b[0m\u001b[0;34m,\u001b[0m \u001b[0mwrt\u001b[0m \u001b[0;34m=\u001b[0m \u001b[0menergy\u001b[0m\u001b[0;34m.\u001b[0m\u001b[0mW\u001b[0m\u001b[0;34m)\u001b[0m\u001b[0;34m\u001b[0m\u001b[0m\n\u001b[0m\u001b[1;32m     12\u001b[0m \u001b[0mgrad_b\u001b[0m \u001b[0;34m=\u001b[0m \u001b[0mT\u001b[0m\u001b[0;34m.\u001b[0m\u001b[0mgrad\u001b[0m\u001b[0;34m(\u001b[0m\u001b[0mcost\u001b[0m \u001b[0;34m=\u001b[0m \u001b[0mcost\u001b[0m\u001b[0;34m,\u001b[0m \u001b[0mwrt\u001b[0m \u001b[0;34m=\u001b[0m \u001b[0menergy\u001b[0m\u001b[0;34m.\u001b[0m\u001b[0mb\u001b[0m\u001b[0;34m)\u001b[0m\u001b[0;34m\u001b[0m\u001b[0m\n\u001b[1;32m     13\u001b[0m \u001b[0;34m\u001b[0m\u001b[0m\n",
      "\u001b[0;32m/Users/zhangsheng/anaconda3/envs/theano/lib/python3.5/site-packages/theano/gradient.py\u001b[0m in \u001b[0;36mgrad\u001b[0;34m(cost, wrt, consider_constant, disconnected_inputs, add_names, known_grads, return_disconnected, null_gradients)\u001b[0m\n\u001b[1;32m    434\u001b[0m \u001b[0;34m\u001b[0m\u001b[0m\n\u001b[1;32m    435\u001b[0m     \u001b[0;32mif\u001b[0m \u001b[0mcost\u001b[0m \u001b[0;32mis\u001b[0m \u001b[0;32mnot\u001b[0m \u001b[0;32mNone\u001b[0m \u001b[0;32mand\u001b[0m \u001b[0mcost\u001b[0m\u001b[0;34m.\u001b[0m\u001b[0mndim\u001b[0m \u001b[0;34m!=\u001b[0m \u001b[0;36m0\u001b[0m\u001b[0;34m:\u001b[0m\u001b[0;34m\u001b[0m\u001b[0m\n\u001b[0;32m--> 436\u001b[0;31m         \u001b[0;32mraise\u001b[0m \u001b[0mTypeError\u001b[0m\u001b[0;34m(\u001b[0m\u001b[0;34m\"cost must be a scalar.\"\u001b[0m\u001b[0;34m)\u001b[0m\u001b[0;34m\u001b[0m\u001b[0m\n\u001b[0m\u001b[1;32m    437\u001b[0m \u001b[0;34m\u001b[0m\u001b[0m\n\u001b[1;32m    438\u001b[0m     \u001b[0;32mif\u001b[0m \u001b[0misinstance\u001b[0m\u001b[0;34m(\u001b[0m\u001b[0mwrt\u001b[0m\u001b[0;34m,\u001b[0m \u001b[0mset\u001b[0m\u001b[0;34m)\u001b[0m\u001b[0;34m:\u001b[0m\u001b[0;34m\u001b[0m\u001b[0m\n",
      "\u001b[0;31mTypeError\u001b[0m: cost must be a scalar."
     ]
    }
   ],
   "source": [
    "index = T.lscalar()\n",
    "\n",
    "x = T.matrix('x')\n",
    "\n",
    "learning_rate = 0.01\n",
    "batch_size = 500\n",
    "\n",
    "energy = mpf(input = x, n = 16)\n",
    "cost = energy.Kcost()\n",
    "\n",
    "grad_W = T.grad(cost = cost, wrt = energy.W)\n",
    "grad_b = T.grad(cost = cost, wrt = energy.b)\n",
    "\n",
    "updates = [(energy.W, energy.W - learning_rate * grad_W), (energy.b, energy.b - learning_rate * grad_b)]\n",
    "\n",
    "train_model = theano.function(inputs = [index],\n",
    "                            outputs = cost,\n",
    "                            updates = updates,\n",
    "                            givens = {x: dataset[index * batch_size: (index + 1) * batch_size, :]} )\n",
    "\n",
    "n_dataset_batches = dataset.get_value(borrow = True).shape[0] // batch_size\n",
    "\n",
    "\n",
    "for minibatch_index in range(n_dataset_batches):\n",
    "            minibatch_avg_cost = train_model(minibatch_index)\n",
    "            print (minibatch_avg_cost)\n"
   ]
  },
  {
   "cell_type": "code",
   "execution_count": null,
   "metadata": {
    "collapsed": true
   },
   "outputs": [],
   "source": []
  },
  {
   "cell_type": "code",
   "execution_count": null,
   "metadata": {
    "collapsed": true
   },
   "outputs": [],
   "source": []
  },
  {
   "cell_type": "code",
   "execution_count": 24,
   "metadata": {
    "collapsed": false
   },
   "outputs": [
    {
     "name": "stdout",
     "output_type": "stream",
     "text": [
      "[0 1 2 3]\n"
     ]
    }
   ],
   "source": [
    "a = np.arange(4)\n",
    "print (a)"
   ]
  },
  {
   "cell_type": "code",
   "execution_count": 25,
   "metadata": {
    "collapsed": false
   },
   "outputs": [
    {
     "name": "stdout",
     "output_type": "stream",
     "text": [
      "[[ 0  1  2  3]\n",
      " [ 4  5  6  7]\n",
      " [ 8  9 10 11]\n",
      " [12 13 14 15]]\n"
     ]
    }
   ],
   "source": [
    "b = np.arange(16).reshape(4,4)\n",
    "print (b)"
   ]
  },
  {
   "cell_type": "code",
   "execution_count": 26,
   "metadata": {
    "collapsed": false
   },
   "outputs": [
    {
     "data": {
      "text/plain": [
       "array([56, 62, 68, 74])"
      ]
     },
     "execution_count": 26,
     "metadata": {},
     "output_type": "execute_result"
    }
   ],
   "source": [
    "np.dot(a,b)"
   ]
  },
  {
   "cell_type": "code",
   "execution_count": 27,
   "metadata": {
    "collapsed": false
   },
   "outputs": [
    {
     "data": {
      "text/plain": [
       "array([[ 0,  1,  4,  9],\n",
       "       [ 0,  5, 12, 21],\n",
       "       [ 0,  9, 20, 33],\n",
       "       [ 0, 13, 28, 45]])"
      ]
     },
     "execution_count": 27,
     "metadata": {},
     "output_type": "execute_result"
    }
   ],
   "source": [
    "a * b"
   ]
  },
  {
   "cell_type": "code",
   "execution_count": null,
   "metadata": {
    "collapsed": true
   },
   "outputs": [],
   "source": []
  },
  {
   "cell_type": "code",
   "execution_count": null,
   "metadata": {
    "collapsed": true
   },
   "outputs": [],
   "source": []
  },
  {
   "cell_type": "code",
   "execution_count": null,
   "metadata": {
    "collapsed": true
   },
   "outputs": [],
   "source": []
  },
  {
   "cell_type": "code",
   "execution_count": null,
   "metadata": {
    "collapsed": true
   },
   "outputs": [],
   "source": []
  },
  {
   "cell_type": "code",
   "execution_count": 39,
   "metadata": {
    "collapsed": false
   },
   "outputs": [],
   "source": [
    "class test(object):\n",
    "    def __init__(self, a, b):\n",
    "        self.a = np.arange(a**2).reshape(a,a)\n",
    "        self.b = np.arange(b)\n",
    "    \n",
    "    def cost(self):\n",
    "        return self.a * self.b"
   ]
  },
  {
   "cell_type": "code",
   "execution_count": 40,
   "metadata": {
    "collapsed": false
   },
   "outputs": [],
   "source": [
    "t = test(3,3)"
   ]
  },
  {
   "cell_type": "code",
   "execution_count": 42,
   "metadata": {
    "collapsed": false
   },
   "outputs": [
    {
     "data": {
      "text/plain": [
       "array([[0, 1, 2],\n",
       "       [3, 4, 5],\n",
       "       [6, 7, 8]])"
      ]
     },
     "execution_count": 42,
     "metadata": {},
     "output_type": "execute_result"
    }
   ],
   "source": [
    "t.a"
   ]
  },
  {
   "cell_type": "code",
   "execution_count": 43,
   "metadata": {
    "collapsed": false
   },
   "outputs": [
    {
     "data": {
      "text/plain": [
       "array([0, 1, 2])"
      ]
     },
     "execution_count": 43,
     "metadata": {},
     "output_type": "execute_result"
    }
   ],
   "source": [
    "t.b"
   ]
  },
  {
   "cell_type": "code",
   "execution_count": 41,
   "metadata": {
    "collapsed": false
   },
   "outputs": [
    {
     "data": {
      "text/plain": [
       "array([[ 0,  1,  4],\n",
       "       [ 0,  4, 10],\n",
       "       [ 0,  7, 16]])"
      ]
     },
     "execution_count": 41,
     "metadata": {},
     "output_type": "execute_result"
    }
   ],
   "source": [
    "t.cost()"
   ]
  },
  {
   "cell_type": "code",
   "execution_count": null,
   "metadata": {
    "collapsed": false
   },
   "outputs": [],
   "source": []
  }
 ],
 "metadata": {
  "kernelspec": {
   "display_name": "Python 3",
   "language": "python",
   "name": "python3"
  },
  "language_info": {
   "codemirror_mode": {
    "name": "ipython",
    "version": 3
   },
   "file_extension": ".py",
   "mimetype": "text/x-python",
   "name": "python",
   "nbconvert_exporter": "python",
   "pygments_lexer": "ipython3",
   "version": "3.5.2"
  }
 },
 "nbformat": 4,
 "nbformat_minor": 0
}
