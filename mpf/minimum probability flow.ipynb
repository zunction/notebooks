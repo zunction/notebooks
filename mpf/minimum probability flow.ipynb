{
 "cells": [
  {
   "cell_type": "code",
   "execution_count": 1,
   "metadata": {
    "collapsed": true
   },
   "outputs": [],
   "source": [
    "import numpy as np\n",
    "import theano.tensor as T"
   ]
  },
  {
   "cell_type": "markdown",
   "metadata": {},
   "source": [
    "Load the data that was generated earlier using Gibbs sampling:"
   ]
  },
  {
   "cell_type": "code",
   "execution_count": 2,
   "metadata": {
    "collapsed": false
   },
   "outputs": [
    {
     "name": "stdout",
     "output_type": "stream",
     "text": [
      "Shape of data:  (50000, 16)\n"
     ]
    }
   ],
   "source": [
    "data = np.load('gibbs-sample.dat.npy')\n",
    "print ('Shape of data: ', data.shape)"
   ]
  },
  {
   "cell_type": "markdown",
   "metadata": {},
   "source": [
    "Here we shall implement the cost function of Minimum Probability Flow:"
   ]
  },
  {
   "cell_type": "markdown",
   "metadata": {
    "collapsed": true
   },
   "source": [
    "It can be shown that, for $E_{x}(W,b)=-\\frac{1}{2}(x^TWx+bx)$ we have\n",
    "$$E_x(W,b)-E_{x'}(W,b)=(1/2-x_h)(Wx+b)_h$$\n",
    "where $x$ and $x'$ are data vectors with a [Hamming distance](https://en.wikipedia.org/wiki/Hamming_distance) of one. The cost function of MPF denoted by $K(\\theta)$ is given by:\n",
    "$$K(\\theta) = \\frac{\\epsilon}{|D|}\\sum_{x\\in D}\\sum_{h=1}^{d}\\exp\\left[(1/2-x)_h(Wx+b)_h\\right]$$\n",
    "where $x$ is vector in the dataset $D$, $d$ is the dimension of the vector $x$ and $W, b$ are the weights and bias to be learnt respectively."
   ]
  },
  {
   "cell_type": "markdown",
   "metadata": {
    "collapsed": true
   },
   "source": [
    "Initialise parameters for $W$ and $b$:"
   ]
  },
  {
   "cell_type": "code",
   "execution_count": 3,
   "metadata": {
    "collapsed": true
   },
   "outputs": [],
   "source": [
    "# Parameters\n",
    "v = 16\n",
    "epsilon = 0.01\n",
    "D = data.shape[0]"
   ]
  },
  {
   "cell_type": "code",
   "execution_count": 4,
   "metadata": {
    "collapsed": false
   },
   "outputs": [
    {
     "name": "stdout",
     "output_type": "stream",
     "text": [
      "Shape of W: (16, 16)\n",
      "Shape of b: (1, 16)\n"
     ]
    }
   ],
   "source": [
    "W = np.random.rand(v, v)\n",
    "b = np.random.rand(1, v)\n",
    "print ('Shape of W:', W.shape)\n",
    "print ('Shape of b:', b.shape)"
   ]
  },
  {
   "cell_type": "markdown",
   "metadata": {},
   "source": [
    "Compute the initial cost, $K(\\theta)$:"
   ]
  },
  {
   "cell_type": "code",
   "execution_count": 9,
   "metadata": {
    "collapsed": false
   },
   "outputs": [],
   "source": [
    "def Kcost(data, W, b, epsilon):\n",
    "    \"\"\"\n",
    "    Returns the cost.\n",
    "    Inputs:\n",
    "    - data: numpy array of data that contains the different states of the network of size n\n",
    "    - W: (n, n) numpy array of the weight matrix\n",
    "    - b: (1, ) numpy array of biases\n",
    "    - espilon: parameter for the cost\n",
    "    \"\"\"\n",
    "    D = data.shape[0]\n",
    "    return np.sum(np.exp((0.5 - data) * (data.dot(W) + b))) * (epsilon/D)"
   ]
  },
  {
   "cell_type": "code",
   "execution_count": 10,
   "metadata": {
    "collapsed": false
   },
   "outputs": [
    {
     "name": "stdout",
     "output_type": "stream",
     "text": [
      "0.757915739647\n"
     ]
    }
   ],
   "source": [
    "c = Kcost(data, W, b, epsilon)\n",
    "print (c)"
   ]
  },
  {
   "cell_type": "markdown",
   "metadata": {
    "collapsed": true
   },
   "source": [
    "Compute the initial gradient:"
   ]
  },
  {
   "cell_type": "code",
   "execution_count": 16,
   "metadata": {
    "collapsed": false
   },
   "outputs": [],
   "source": [
    "def initialgrad(data, W, b, epsilon):\n",
    "    \"\"\"\n",
    "    Computes the initial gradient of the cost function\n",
    "    Inputs:\n",
    "    - data: numpy array of data that contains the different states of the network of size n\n",
    "    - W: (n, n) numpy array of the weight matrix\n",
    "    - b: (1, ) numpy array of biases\n",
    "    - espilon: parameter for the cost\n",
    "    \"\"\"\n",
    "    D = data.shape[0]\n",
    "    Wgrad = np.zeros(W.shape)\n",
    "    bgrad = np.zeros(b.shape)\n",
    "    delta = 0.5 - data\n",
    "    Wgrad = np.triu((epsilon / D) * delta * x * Kcost(data, W, b, epsilon)) \\\n",
    "          + np.tril((epsilon / D) * delta * x * Kcost(data, W, b, epsilon)).T\n",
    "    bgrad = (epsilon / D) * Kcost(data, W, b, epsilon)\n",
    "    \n",
    "    \n",
    "    "
   ]
  },
  {
   "cell_type": "code",
   "execution_count": null,
   "metadata": {
    "collapsed": true
   },
   "outputs": [],
   "source": []
  },
  {
   "cell_type": "code",
   "execution_count": null,
   "metadata": {
    "collapsed": true
   },
   "outputs": [],
   "source": []
  },
  {
   "cell_type": "code",
   "execution_count": null,
   "metadata": {
    "collapsed": true
   },
   "outputs": [],
   "source": []
  },
  {
   "cell_type": "code",
   "execution_count": null,
   "metadata": {
    "collapsed": true
   },
   "outputs": [],
   "source": []
  },
  {
   "cell_type": "code",
   "execution_count": null,
   "metadata": {
    "collapsed": true
   },
   "outputs": [],
   "source": []
  },
  {
   "cell_type": "code",
   "execution_count": null,
   "metadata": {
    "collapsed": true
   },
   "outputs": [],
   "source": []
  },
  {
   "cell_type": "code",
   "execution_count": null,
   "metadata": {
    "collapsed": true
   },
   "outputs": [],
   "source": []
  }
 ],
 "metadata": {
  "anaconda-cloud": {},
  "kernelspec": {
   "display_name": "Python 3",
   "language": "python",
   "name": "python3"
  },
  "language_info": {
   "codemirror_mode": {
    "name": "ipython",
    "version": 3
   },
   "file_extension": ".py",
   "mimetype": "text/x-python",
   "name": "python",
   "nbconvert_exporter": "python",
   "pygments_lexer": "ipython3",
   "version": "3.5.2"
  }
 },
 "nbformat": 4,
 "nbformat_minor": 0
}
