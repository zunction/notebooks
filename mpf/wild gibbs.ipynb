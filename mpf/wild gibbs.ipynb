{
 "cells": [
  {
   "cell_type": "code",
   "execution_count": 1,
   "metadata": {
    "collapsed": true
   },
   "outputs": [],
   "source": [
    "import numpy as np\n",
    "import time"
   ]
  },
  {
   "cell_type": "code",
   "execution_count": 2,
   "metadata": {
    "collapsed": true
   },
   "outputs": [],
   "source": [
    "n = 16"
   ]
  },
  {
   "cell_type": "code",
   "execution_count": 3,
   "metadata": {
    "collapsed": true
   },
   "outputs": [],
   "source": [
    "def getseed(n = 16):\n",
    "    \"\"\"\n",
    "    Generates the seed for the Gibbs sampler.\n",
    "    Inputs:\n",
    "    - n: (int) number of neurons in the network\n",
    "    \"\"\"\n",
    "    return np.random.randint(2, size = 16)   \n",
    "\n",
    "def getW(n = 16):\n",
    "    \"\"\"\n",
    "    Generates the matrix to learn using MPF.\n",
    "    Inputs:\n",
    "    - n: (int) number of neurons in the network\n",
    "    \"\"\"\n",
    "    U = np.random.normal(0, 1, (n, n))\n",
    "    W = 0.5 * (U + U.T)\n",
    "    np.fill_diagonal(W, 0)\n",
    "    np.save('wildW.dat', W)\n",
    "    return W\n",
    "\n",
    "def getb(n = 16):\n",
    "    \"\"\"\n",
    "    Generates the bias to learn using MPF.\n",
    "    Inputs:\n",
    "    - n: (int) number of neurons in the network\n",
    "    \"\"\"\n",
    "    b = np.random.randint(2, size = 16)\n",
    "    np.save('wildb.dat', b)\n",
    "    return b   \n",
    "\n",
    "\n",
    "def sigmoid(x):\n",
    "    \"\"\"\n",
    "    Takes in a vector x and returns its sigmoid activation.\n",
    "    Input:\n",
    "    - x: a numpy array\n",
    "    \"\"\"\n",
    "    return 1/(1 + np.exp(-x))"
   ]
  },
  {
   "cell_type": "code",
   "execution_count": 26,
   "metadata": {
    "collapsed": true
   },
   "outputs": [],
   "source": [
    "seed = getseed()\n",
    "W = getW()\n",
    "b = getb()"
   ]
  },
  {
   "cell_type": "code",
   "execution_count": 5,
   "metadata": {
    "collapsed": true
   },
   "outputs": [],
   "source": [
    "def one_state_update(x, W, b, s):\n",
    "    \"\"\"\n",
    "    Does a single update of the sth neuron of the network.\n",
    "    Inputs:\n",
    "    - x: current state of the network to produce a new state\n",
    "    - W: numpy array of weights\n",
    "    - b: numpy array of biases\n",
    "    \"\"\"\n",
    "#     print ('Old:', x, id(x))\n",
    "    p = sigmoid(np.dot(W, x) + b)\n",
    "    new_x = np.copy(x)\n",
    "#     print (id(new_x))\n",
    "    new_x[s] = np.random.binomial(1, p[s], 1) \n",
    "#     print ('Probabilities:', p[5])\n",
    "#     print ('Old:', x, id(x))\n",
    "#     print ('New:', new_x, id(new_x))\n",
    "    return new_x"
   ]
  },
  {
   "cell_type": "code",
   "execution_count": 7,
   "metadata": {
    "collapsed": true
   },
   "outputs": [],
   "source": [
    "def burn_in(x, W, b, n = 10000):\n",
    "    \"\"\"\n",
    "    Performs the burning in before doing the Gibbs sampling.\n",
    "    \"\"\"\n",
    "    v = x.shape[0]\n",
    "    for i in range(n * v):\n",
    "        s = np.random.randint(0, v)\n",
    "        x = one_state_update(x, W, b, s)\n",
    "    return x    "
   ]
  },
  {
   "cell_type": "code",
   "execution_count": 11,
   "metadata": {
    "collapsed": true
   },
   "outputs": [],
   "source": [
    "def n_updates(x, W, b, n = 100):\n",
    "    \"\"\"\n",
    "    Performs n times of the one_state_update.\n",
    "    Inputs:\n",
    "    - x: current state of the network to produce a new state\n",
    "    - W: numpy array of weights\n",
    "    - b: numpy array of biases\n",
    "    - n: (int) number of updates to be made\n",
    "    \"\"\"\n",
    "    v = x.shape[0]\n",
    "    for i in range(n * v):\n",
    "        s = np.random.randint(0, v)\n",
    "        x = one_state_update(x, W, b, s)\n",
    "    return x"
   ]
  },
  {
   "cell_type": "code",
   "execution_count": 45,
   "metadata": {
    "collapsed": true
   },
   "outputs": [],
   "source": [
    "def mixing(x, W, b, n = 50000, m = 100, savesamples = 'True'):\n",
    "    \"\"\"\n",
    "    Does mixing for m times before obtaining a single sample.\n",
    "    Inputs:\n",
    "    - x: current state of the network to produce a new state\n",
    "    - W: numpy array of weights\n",
    "    - b: numpy array of biases\n",
    "    - n: (int) number of samples to be generated\n",
    "    - m: (int) number of updates before a sample is saved\n",
    "    \"\"\"\n",
    "    samples = np.zeros((n, x.shape[0]))\n",
    "    for i in range(n):\n",
    "        s = n_updates(x, W, b, m)\n",
    "        samples[i, :] = s\n",
    "        \n",
    "    if savesamples == \"True\":\n",
    "        np.save('gibbs-sample.dat', samples)\n",
    "        print ('Samples are saved as \"gibbs-sample.dat.npy\"')\n",
    "    elif savesamples == \"False\":\n",
    "        print ('Samples were not saved. Run np.save(\"gibbs-sample.dat\", sample) to save them. ')\n",
    "    else:\n",
    "        raise ValueError(\"savesamples must be 'True' or 'False'\")    \n",
    "    return samples"
   ]
  },
  {
   "cell_type": "code",
   "execution_count": 43,
   "metadata": {
    "collapsed": true
   },
   "outputs": [],
   "source": [
    "def sampling(x, W, b, n = 50000, m = 100, savesamples = 'True'):\n",
    "    tic = time.time()\n",
    "    print ('Burning in...')\n",
    "    burnt = burn_in(x, W, b)\n",
    "    print ('Mixing...')\n",
    "    samples = mixing(x, W, b, n, m)\n",
    "    toc = time.time()\n",
    "    print ('Time taken to create %d samples is %f2 minutes' % (n, (toc - tic)/60.))\n",
    "    return samples"
   ]
  },
  {
   "cell_type": "code",
   "execution_count": null,
   "metadata": {
    "collapsed": false
   },
   "outputs": [
    {
     "name": "stdout",
     "output_type": "stream",
     "text": [
      "Burning in...\n",
      "Mixing...\n"
     ]
    }
   ],
   "source": [
    "sampling(seed, W, b)"
   ]
  },
  {
   "cell_type": "code",
   "execution_count": 42,
   "metadata": {
    "collapsed": false
   },
   "outputs": [
    {
     "name": "stdout",
     "output_type": "stream",
     "text": [
      "[1 1 0 1 1 0 1 0 1 1 1 1 1 1 1 0]\n",
      "[[ 0.         -0.81060884 -0.54606147 -0.67406265 -0.85362585 -0.20510847\n",
      "   0.4568468  -0.50514437  0.09721725 -0.18397757  0.37526607 -1.7303635\n",
      "   0.91895714  0.01726934 -0.26658173 -0.2881471 ]\n",
      " [-0.81060884  0.         -0.4649697  -0.85263503 -0.17584544  0.64309694\n",
      "   0.47892279 -0.54006362  0.93707694  0.01920955 -0.19812411 -0.40039792\n",
      "   1.95167486 -0.91055876  0.72286565 -0.63941877]\n",
      " [-0.54606147 -0.4649697   0.          0.23200601 -0.15758482  0.81953274\n",
      "  -0.23370028 -0.62390941  0.15258657  0.11864316  0.81503253  0.82579841\n",
      "  -1.08052015 -0.04188282 -0.02085416  1.44501935]\n",
      " [-0.67406265 -0.85263503  0.23200601  0.          0.75349221 -0.99533129\n",
      "   1.88049937 -0.68285743  0.21500688  1.23018959  0.15623693  0.06925602\n",
      "   0.30097856  1.6129382  -0.40201307 -0.2248305 ]\n",
      " [-0.85362585 -0.17584544 -0.15758482  0.75349221  0.          0.01046808\n",
      "   0.60427758  0.49901599  1.06101995  0.2698569   1.17352421  1.25997474\n",
      "   0.13650027  1.0969081  -0.91486812  0.9623105 ]\n",
      " [-0.20510847  0.64309694  0.81953274 -0.99533129  0.01046808  0.\n",
      "  -0.4551808  -0.02787139  0.43322813  0.27083992 -0.07129527 -0.20215925\n",
      "  -0.07565489  0.57525161 -0.43566551  1.32526701]\n",
      " [ 0.4568468   0.47892279 -0.23370028  1.88049937  0.60427758 -0.4551808\n",
      "   0.         -0.14272833  0.11653733 -1.38923815  0.96093594 -0.36092432\n",
      "  -1.21096714  0.43335907  0.37213954  0.90967427]\n",
      " [-0.50514437 -0.54006362 -0.62390941 -0.68285743  0.49901599 -0.02787139\n",
      "  -0.14272833  0.         -0.17744002 -0.02629642 -0.38487285 -0.43446103\n",
      "  -0.00373491 -0.98722784 -0.17102301 -1.54301684]\n",
      " [ 0.09721725  0.93707694  0.15258657  0.21500688  1.06101995  0.43322813\n",
      "   0.11653733 -0.17744002  0.         -0.19505626  1.18232868 -0.64377818\n",
      "  -0.07631786  1.28753482  0.37022516  0.60176806]\n",
      " [-0.18397757  0.01920955  0.11864316  1.23018959  0.2698569   0.27083992\n",
      "  -1.38923815 -0.02629642 -0.19505626  0.          0.10536345 -0.24944125\n",
      "  -1.29407807 -0.14221098 -2.7856658   0.27520448]\n",
      " [ 0.37526607 -0.19812411  0.81503253  0.15623693  1.17352421 -0.07129527\n",
      "   0.96093594 -0.38487285  1.18232868  0.10536345  0.          0.01986751\n",
      "  -0.02488427 -0.50898378 -0.86375159  0.09493664]\n",
      " [-1.7303635  -0.40039792  0.82579841  0.06925602  1.25997474 -0.20215925\n",
      "  -0.36092432 -0.43446103 -0.64377818 -0.24944125  0.01986751  0.\n",
      "   0.08502645  0.87878364 -0.66202583 -0.10947792]\n",
      " [ 0.91895714  1.95167486 -1.08052015  0.30097856  0.13650027 -0.07565489\n",
      "  -1.21096714 -0.00373491 -0.07631786 -1.29407807 -0.02488427  0.08502645\n",
      "   0.         -0.57574402 -0.45537891 -1.28805062]\n",
      " [ 0.01726934 -0.91055876 -0.04188282  1.6129382   1.0969081   0.57525161\n",
      "   0.43335907 -0.98722784  1.28753482 -0.14221098 -0.50898378  0.87878364\n",
      "  -0.57574402  0.         -0.27184051 -0.75949395]\n",
      " [-0.26658173  0.72286565 -0.02085416 -0.40201307 -0.91486812 -0.43566551\n",
      "   0.37213954 -0.17102301  0.37022516 -2.7856658  -0.86375159 -0.66202583\n",
      "  -0.45537891 -0.27184051  0.         -0.1200405 ]\n",
      " [-0.2881471  -0.63941877  1.44501935 -0.2248305   0.9623105   1.32526701\n",
      "   0.90967427 -1.54301684  0.60176806  0.27520448  0.09493664 -0.10947792\n",
      "  -1.28805062 -0.75949395 -0.1200405   0.        ]]\n",
      "[1 0 0 1 0 0 1 1 1 1 0 1 1 1 1 0]\n"
     ]
    }
   ],
   "source": [
    "print (seed)\n",
    "print (W)\n",
    "print (b)"
   ]
  },
  {
   "cell_type": "code",
   "execution_count": null,
   "metadata": {
    "collapsed": true
   },
   "outputs": [],
   "source": []
  },
  {
   "cell_type": "code",
   "execution_count": null,
   "metadata": {
    "collapsed": true
   },
   "outputs": [],
   "source": []
  },
  {
   "cell_type": "code",
   "execution_count": null,
   "metadata": {
    "collapsed": true
   },
   "outputs": [],
   "source": []
  },
  {
   "cell_type": "code",
   "execution_count": null,
   "metadata": {
    "collapsed": true
   },
   "outputs": [],
   "source": []
  },
  {
   "cell_type": "code",
   "execution_count": null,
   "metadata": {
    "collapsed": true
   },
   "outputs": [],
   "source": []
  }
 ],
 "metadata": {
  "kernelspec": {
   "display_name": "Python 3",
   "language": "python",
   "name": "python3"
  },
  "language_info": {
   "codemirror_mode": {
    "name": "ipython",
    "version": 3
   },
   "file_extension": ".py",
   "mimetype": "text/x-python",
   "name": "python",
   "nbconvert_exporter": "python",
   "pygments_lexer": "ipython3",
   "version": "3.5.2"
  }
 },
 "nbformat": 4,
 "nbformat_minor": 1
}
