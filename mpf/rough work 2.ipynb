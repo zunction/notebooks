{
 "cells": [
  {
   "cell_type": "code",
   "execution_count": 1,
   "metadata": {
    "collapsed": true
   },
   "outputs": [],
   "source": [
    "import numpy as np\n",
    "import theano\n",
    "import theano.tensor as T\n",
    "\n",
    "import timeit"
   ]
  },
  {
   "cell_type": "code",
   "execution_count": 2,
   "metadata": {
    "collapsed": true
   },
   "outputs": [],
   "source": [
    "def load_data(dataset = 'gibbs-sample.dat.npy', borrow = True):\n",
    "    \"\"\"\n",
    "    Loads the dataset.\n",
    "    \"\"\"\n",
    "    data = np.load(dataset)\n",
    "    dataset = theano.shared(np.asarray(data, dtype = theano.config.floatX), borrow = borrow)\n",
    "        \n",
    "    return dataset   "
   ]
  },
  {
   "cell_type": "code",
   "execution_count": null,
   "metadata": {
    "collapsed": true
   },
   "outputs": [],
   "source": [
    "class mpf(object):\n",
    "    \"\"\"\n",
    "    Minimum probability flow\n",
    "    \"\"\"\n",
    "    \n",
    "    def __init__(self, input = None, n = 16, W = none, b = none):\n",
    "        \"\"\"\n",
    "        Initialize mpf class\n",
    "        \"\"\"\n",
    "        self.n = n\n",
    "        \n",
    "        U = np.random.rand((n,n))\n",
    "        \n",
    "        \n",
    "        if not W:\n",
    "            initial_W = np.asarray(np.fill_diagonal(0.5 * (U + U.T), 0), dtype = theano.config.floatX)\n",
    "            W = theano.shared(value = initial_W, name = 'W', borrow = True)\n",
    "        \n",
    "        if not b:\n",
    "            b = theano.shared(np.zeros(n, dtype = theano.config.floatX), name = 'b', borrow = True)\n",
    "            \n",
    "            \n",
    "        self.W = W\n",
    "        self.b = b\n",
    "        \n",
    "        if input is None:\n",
    "            self.x = T.dmatrix(name = 'input')\n",
    "        else:\n",
    "            self.x = input\n",
    "    \n",
    "    \n",
    "    def          \n",
    "            \n",
    "                "
   ]
  },
  {
   "cell_type": "code",
   "execution_count": 3,
   "metadata": {
    "collapsed": true
   },
   "outputs": [],
   "source": [
    "A = np.arange(9).reshape(3,3)\n",
    "np.fill_diagonal(A, 0)"
   ]
  },
  {
   "cell_type": "code",
   "execution_count": 4,
   "metadata": {
    "collapsed": false
   },
   "outputs": [
    {
     "name": "stdout",
     "output_type": "stream",
     "text": [
      "[[0 1 2]\n",
      " [3 0 5]\n",
      " [6 7 0]]\n"
     ]
    }
   ],
   "source": [
    "print (A)"
   ]
  },
  {
   "cell_type": "code",
   "execution_count": null,
   "metadata": {
    "collapsed": true
   },
   "outputs": [],
   "source": []
  },
  {
   "cell_type": "code",
   "execution_count": null,
   "metadata": {
    "collapsed": true
   },
   "outputs": [],
   "source": []
  },
  {
   "cell_type": "code",
   "execution_count": null,
   "metadata": {
    "collapsed": true
   },
   "outputs": [],
   "source": []
  },
  {
   "cell_type": "code",
   "execution_count": null,
   "metadata": {
    "collapsed": true
   },
   "outputs": [],
   "source": []
  },
  {
   "cell_type": "code",
   "execution_count": null,
   "metadata": {
    "collapsed": true
   },
   "outputs": [],
   "source": []
  },
  {
   "cell_type": "code",
   "execution_count": null,
   "metadata": {
    "collapsed": true
   },
   "outputs": [],
   "source": []
  }
 ],
 "metadata": {
  "kernelspec": {
   "display_name": "Python 3",
   "language": "python",
   "name": "python3"
  },
  "language_info": {
   "codemirror_mode": {
    "name": "ipython",
    "version": 3
   },
   "file_extension": ".py",
   "mimetype": "text/x-python",
   "name": "python",
   "nbconvert_exporter": "python",
   "pygments_lexer": "ipython3",
   "version": "3.5.2"
  }
 },
 "nbformat": 4,
 "nbformat_minor": 1
}
