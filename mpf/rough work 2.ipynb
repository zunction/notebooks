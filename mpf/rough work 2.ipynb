{
 "cells": [
  {
   "cell_type": "code",
   "execution_count": 41,
   "metadata": {
    "collapsed": true
   },
   "outputs": [],
   "source": [
    "import numpy as np\n",
    "import theano\n",
    "import theano.tensor as T\n",
    "import matplotlib.pyplot as plt\n",
    "import seaborn as sns; sns.set()\n",
    "\n",
    "import os \n",
    "import timeit\n",
    "\n",
    "% matplotlib inline"
   ]
  },
  {
   "cell_type": "code",
   "execution_count": 2,
   "metadata": {
    "collapsed": true
   },
   "outputs": [],
   "source": [
    "def load_data(dataset = 'gibbs-sample.dat.npy', borrow = True):\n",
    "    \"\"\"\n",
    "    Loads the dataset.\n",
    "    \"\"\"\n",
    "    data = np.load(dataset)\n",
    "    dataset = theano.shared(np.asarray(data, dtype = theano.config.floatX), borrow = borrow)\n",
    "        \n",
    "    return dataset   "
   ]
  },
  {
   "cell_type": "code",
   "execution_count": 17,
   "metadata": {
    "collapsed": false
   },
   "outputs": [],
   "source": [
    "class mpf(object):\n",
    "    \"\"\"\n",
    "    Minimum probability flow\n",
    "    \"\"\"\n",
    "    \n",
    "    def __init__(self, input = None, n = 16, W = None, b = None):\n",
    "        \"\"\"\n",
    "        Initialize mpf class\n",
    "        \"\"\"\n",
    "        self.n = n\n",
    "        \n",
    "        U = np.random.rand(self.n, self.n)\n",
    "        R = 0.5 * (U + U.T)\n",
    "        np.fill_diagonal(R, 0)\n",
    "        \n",
    "        if not W:\n",
    "            initial_W = np.asarray(R, dtype = theano.config.floatX)\n",
    "            W = theano.shared(initial_W, name = 'W', borrow = True)\n",
    "        \n",
    "        if not b:\n",
    "            b = theano.shared(np.zeros(n, dtype = theano.config.floatX), name = 'b', borrow = True)\n",
    "            \n",
    "            \n",
    "        self.W = W\n",
    "        self.b = b\n",
    "#         self.input = input\n",
    "        if input is None:\n",
    "            self.x = T.dmatrix(name = 'input')\n",
    "        else:\n",
    "            self.x = input\n",
    "        \n",
    "        self.params = [self.W, self.b]\n",
    "    \n",
    "    \n",
    "    def Kcost(self, epsilon = 0.01, learning_rate = 0.01):\n",
    "        \"\"\"\n",
    "        Returns the cost\n",
    "        \"\"\"\n",
    "        \n",
    "        cost = T.mean(T.exp((0.5 - self.x) * (T.dot(self.x, self.W) + self.b))) * epsilon\n",
    "#         gparams = T.grad(cost, self.params)\n",
    "#         updates = [(param, param - learning_rate * gparam) for param, gparam in zip(self.params, gparams)]\n",
    "        Wgrad = T.grad(cost, self.W)\n",
    "        bgrad = T.grad(cost, self.b)\n",
    "        \n",
    "        Wupdate = T.fill_diagonal(0.5 * ((self.W - learning_rate * Wgrad) + (self.W - learning_rate * Wgrad).T), 0)\n",
    "#         Wupdate = 0.5 * ((self.W - learning_rate * Wgrad) + (self.W - learning_rate * Wgrad).T)\n",
    "        updates = [(self.W, Wupdate), (self.b, self.b - learning_rate * bgrad )]\n",
    "        \n",
    "        return cost, updates\n",
    "            \n",
    "                "
   ]
  },
  {
   "cell_type": "code",
   "execution_count": 33,
   "metadata": {
    "collapsed": false
   },
   "outputs": [],
   "source": [
    "def sgd(learning_rate = 0.01, n_epochs = 50, dataset = 'gibbs-sample.dat.npy', batch_size = 50, output_folder = 'mpf_results'):\n",
    "    \"\"\"\n",
    "    Perform stochastic gradient descent on MPF\n",
    "    \"\"\"\n",
    "    print ('Loading '+dataset+'...')\n",
    "    \n",
    "    dataset = load_data(dataset)\n",
    "    \n",
    "    n_dataset_batches = dataset.get_value(borrow = True).shape[0] // batch_size\n",
    "    \n",
    "    print ('Building the model...')\n",
    "\n",
    "    index = T.lscalar()\n",
    "    x = T.matrix('x')\n",
    "    \n",
    "#     if not os.path.isdir(output_folder):\n",
    "#         os.makedirs(output_folder)\n",
    "#     os.chdir(output_folder)   \n",
    "    \n",
    "    flow = mpf(input = x)\n",
    "    cost, updates = flow.Kcost()\n",
    "    \n",
    "    train_mpf = theano.function(inputs = [index], outputs = cost, updates = updates, \\\n",
    "                                givens = {x: dataset[index * batch_size: (index + 1) * batch_size]})\n",
    "    \n",
    "    start_time = timeit.default_timer()\n",
    "    \n",
    "    for epoch in range(n_epochs):\n",
    "        c = []\n",
    "        for batch_index in range(n_dataset_batches):\n",
    "            c.append(train_mpf(batch_index))\n",
    "\n",
    "        print ('Training epoch %d, cost' % epoch, np.mean(c, dtype='float64'))\n",
    "        \n",
    "    end_time = timeit.default_timer()\n",
    "    \n",
    "    training_time = end_time - start_time\n",
    "    \n",
    "    print ('The training took %.2f seconds' % (training_time/60.))\n",
    "    \n",
    "    W_learnt = flow.W.get_value(borrow = True)\n",
    "    W = np.load('W.dat.npy')\n",
    "    "
   ]
  },
  {
   "cell_type": "code",
   "execution_count": 34,
   "metadata": {
    "collapsed": false
   },
   "outputs": [
    {
     "name": "stdout",
     "output_type": "stream",
     "text": [
      "Loading gibbs-sample.dat.npy...\n",
      "Building the model...\n",
      "Training epoch 0, cost 0.0291873373308\n",
      "Training epoch 1, cost 0.025873087703\n",
      "Training epoch 2, cost 0.0233691767179\n",
      "Training epoch 3, cost 0.0214008229233\n",
      "Training epoch 4, cost 0.0198064709116\n",
      "Training epoch 5, cost 0.0184845788269\n",
      "Training epoch 6, cost 0.0173679305598\n",
      "Training epoch 7, cost 0.0164101492803\n",
      "Training epoch 8, cost 0.0155781323812\n",
      "Training epoch 9, cost 0.0148475740767\n",
      "Training epoch 10, cost 0.0142001950224\n",
      "Training epoch 11, cost 0.0136219627405\n",
      "Training epoch 12, cost 0.0131019113119\n",
      "Training epoch 13, cost 0.0126313365564\n",
      "Training epoch 14, cost 0.0122032338085\n",
      "Training epoch 15, cost 0.0118118966983\n",
      "Training epoch 16, cost 0.011452625355\n",
      "Training epoch 17, cost 0.0111215105649\n",
      "Training epoch 18, cost 0.0108152716627\n",
      "Training epoch 19, cost 0.0105311330886\n",
      "Training epoch 20, cost 0.0102667292047\n",
      "Training epoch 21, cost 0.0100200300576\n",
      "Training epoch 22, cost 0.00978928286723\n",
      "Training epoch 23, cost 0.00957296546539\n",
      "Training epoch 24, cost 0.00936974891075\n",
      "Training epoch 25, cost 0.00917846722508\n",
      "Training epoch 26, cost 0.00899809270572\n",
      "Training epoch 27, cost 0.00882771564305\n",
      "Training epoch 28, cost 0.00866652754622\n",
      "Training epoch 29, cost 0.00851380718375\n",
      "Training epoch 30, cost 0.00836890889892\n",
      "Training epoch 31, cost 0.00823125277577\n",
      "Training epoch 32, cost 0.00810031631977\n",
      "Training epoch 33, cost 0.00797562738587\n",
      "Training epoch 34, cost 0.00785675813916\n",
      "Training epoch 35, cost 0.00774331987518\n",
      "Training epoch 36, cost 0.00763495855911\n",
      "Training epoch 37, cost 0.00753135096929\n",
      "Training epoch 38, cost 0.00743220135069\n",
      "Training epoch 39, cost 0.00733723850082\n",
      "Training epoch 40, cost 0.00724621322369\n",
      "Training epoch 41, cost 0.00715889609822\n",
      "Training epoch 42, cost 0.00707507551625\n",
      "Training epoch 43, cost 0.00699455595278\n",
      "Training epoch 44, cost 0.00691715643639\n",
      "Training epoch 45, cost 0.00684270919342\n",
      "Training epoch 46, cost 0.00677105844287\n",
      "Training epoch 47, cost 0.00670205932273\n",
      "Training epoch 48, cost 0.00663557693119\n",
      "Training epoch 49, cost 0.00657148546848\n",
      "The training took 0.08 seconds\n"
     ]
    }
   ],
   "source": [
    "sgd()"
   ]
  },
  {
   "cell_type": "code",
   "execution_count": 14,
   "metadata": {
    "collapsed": true
   },
   "outputs": [],
   "source": [
    "e = mpf()"
   ]
  },
  {
   "cell_type": "code",
   "execution_count": 15,
   "metadata": {
    "collapsed": false
   },
   "outputs": [
    {
     "data": {
      "text/plain": [
       "16"
      ]
     },
     "execution_count": 15,
     "metadata": {},
     "output_type": "execute_result"
    }
   ],
   "source": [
    "e.n"
   ]
  },
  {
   "cell_type": "code",
   "execution_count": 16,
   "metadata": {
    "collapsed": false
   },
   "outputs": [
    {
     "data": {
      "text/plain": [
       "array([[ 0.        ,  0.39604025,  0.60089678,  0.7050529 ,  0.36098649,\n",
       "         0.1134071 ,  0.63169966,  0.56936553,  0.58299608,  0.58411516,\n",
       "         0.47700798,  0.70533777,  0.62870156,  0.25883978,  0.55990836,\n",
       "         0.6975752 ],\n",
       "       [ 0.39604025,  0.        ,  0.40957708,  0.68902985,  0.26251731,\n",
       "         0.31160284,  0.45807381,  0.45322285,  0.7283745 ,  0.46826541,\n",
       "         0.32045399,  0.57775205,  0.3080416 ,  0.24435734,  0.17415364,\n",
       "         0.71163772],\n",
       "       [ 0.60089678,  0.40957708,  0.        ,  0.44396438,  0.32221286,\n",
       "         0.60306179,  0.6116395 ,  0.42132924,  0.18445616,  0.33056094,\n",
       "         0.35038628,  0.37866518,  0.64922321,  0.41769249,  0.36764416,\n",
       "         0.05893529],\n",
       "       [ 0.7050529 ,  0.68902985,  0.44396438,  0.        ,  0.15750308,\n",
       "         0.47762009,  0.51848963,  0.81434602,  0.35695929,  0.83936385,\n",
       "         0.36286409,  0.57242149,  0.63534739,  0.71734609,  0.38492076,\n",
       "         0.50635264],\n",
       "       [ 0.36098649,  0.26251731,  0.32221286,  0.15750308,  0.        ,\n",
       "         0.89310522,  0.37564376,  0.47148674,  0.60245503,  0.59371163,\n",
       "         0.84128499,  0.61173793,  0.37327369,  0.32519699,  0.60685661,\n",
       "         0.42474787],\n",
       "       [ 0.1134071 ,  0.31160284,  0.60306179,  0.47762009,  0.89310522,\n",
       "         0.        ,  0.63661894,  0.34513721,  0.35014362,  0.421162  ,\n",
       "         0.60591376,  0.64942795,  0.21613856,  0.04925982,  0.7082341 ,\n",
       "         0.56409392],\n",
       "       [ 0.63169966,  0.45807381,  0.6116395 ,  0.51848963,  0.37564376,\n",
       "         0.63661894,  0.        ,  0.48711375,  0.46602599,  0.349818  ,\n",
       "         0.93060088,  0.45804587,  0.48172306,  0.78481771,  0.62617666,\n",
       "         0.70206683],\n",
       "       [ 0.56936553,  0.45322285,  0.42132924,  0.81434602,  0.47148674,\n",
       "         0.34513721,  0.48711375,  0.        ,  0.49201636,  0.76913223,\n",
       "         0.79766831,  0.7236033 ,  0.51137769,  0.4196442 ,  0.82624252,\n",
       "         0.55364285],\n",
       "       [ 0.58299608,  0.7283745 ,  0.18445616,  0.35695929,  0.60245503,\n",
       "         0.35014362,  0.46602599,  0.49201636,  0.        ,  0.59505143,\n",
       "         0.55323558,  0.55933299,  0.36931753,  0.59710755,  0.5910579 ,\n",
       "         0.29409522],\n",
       "       [ 0.58411516,  0.46826541,  0.33056094,  0.83936385,  0.59371163,\n",
       "         0.421162  ,  0.349818  ,  0.76913223,  0.59505143,  0.        ,\n",
       "         0.34723523,  0.46440077,  0.45253412,  0.65818694,  0.15839941,\n",
       "         0.28174479],\n",
       "       [ 0.47700798,  0.32045399,  0.35038628,  0.36286409,  0.84128499,\n",
       "         0.60591376,  0.93060088,  0.79766831,  0.55323558,  0.34723523,\n",
       "         0.        ,  0.38693437,  0.53120078,  0.45517061,  0.42484129,\n",
       "         0.27706189],\n",
       "       [ 0.70533777,  0.57775205,  0.37866518,  0.57242149,  0.61173793,\n",
       "         0.64942795,  0.45804587,  0.7236033 ,  0.55933299,  0.46440077,\n",
       "         0.38693437,  0.        ,  0.05562239,  0.31240592,  0.48183791,\n",
       "         0.33093885],\n",
       "       [ 0.62870156,  0.3080416 ,  0.64922321,  0.63534739,  0.37327369,\n",
       "         0.21613856,  0.48172306,  0.51137769,  0.36931753,  0.45253412,\n",
       "         0.53120078,  0.05562239,  0.        ,  0.28799738,  0.16851068,\n",
       "         0.53795089],\n",
       "       [ 0.25883978,  0.24435734,  0.41769249,  0.71734609,  0.32519699,\n",
       "         0.04925982,  0.78481771,  0.4196442 ,  0.59710755,  0.65818694,\n",
       "         0.45517061,  0.31240592,  0.28799738,  0.        ,  0.58194476,\n",
       "         0.55688459],\n",
       "       [ 0.55990836,  0.17415364,  0.36764416,  0.38492076,  0.60685661,\n",
       "         0.7082341 ,  0.62617666,  0.82624252,  0.5910579 ,  0.15839941,\n",
       "         0.42484129,  0.48183791,  0.16851068,  0.58194476,  0.        ,\n",
       "         0.35446437],\n",
       "       [ 0.6975752 ,  0.71163772,  0.05893529,  0.50635264,  0.42474787,\n",
       "         0.56409392,  0.70206683,  0.55364285,  0.29409522,  0.28174479,\n",
       "         0.27706189,  0.33093885,  0.53795089,  0.55688459,  0.35446437,\n",
       "         0.        ]])"
      ]
     },
     "execution_count": 16,
     "metadata": {},
     "output_type": "execute_result"
    }
   ],
   "source": [
    "e.W.get_value()"
   ]
  },
  {
   "cell_type": "code",
   "execution_count": null,
   "metadata": {
    "collapsed": true
   },
   "outputs": [],
   "source": [
    "Q = np.random.rand(2,2)"
   ]
  },
  {
   "cell_type": "code",
   "execution_count": null,
   "metadata": {
    "collapsed": true
   },
   "outputs": [],
   "source": [
    "R = 0.5 * (Q + Q.T)"
   ]
  },
  {
   "cell_type": "code",
   "execution_count": null,
   "metadata": {
    "collapsed": true
   },
   "outputs": [],
   "source": [
    "np.fill_diagonal(R, 0)"
   ]
  },
  {
   "cell_type": "code",
   "execution_count": 9,
   "metadata": {
    "collapsed": false
   },
   "outputs": [
    {
     "name": "stdout",
     "output_type": "stream",
     "text": [
      "[[ 0.49551631  0.78881879  0.58994301]\n",
      " [ 0.78881879  0.38253977  0.29270314]\n",
      " [ 0.58994301  0.29270314  0.12937292]]\n"
     ]
    }
   ],
   "source": [
    "U = np.random.rand(3, 3)\n",
    "R = 0.5 * (U + U.T)\n",
    "print(R)"
   ]
  },
  {
   "cell_type": "code",
   "execution_count": 11,
   "metadata": {
    "collapsed": false
   },
   "outputs": [
    {
     "name": "stdout",
     "output_type": "stream",
     "text": [
      "[[ 0.          0.78881879  0.58994301]\n",
      " [ 0.78881879  0.          0.29270314]\n",
      " [ 0.58994301  0.29270314  0.        ]]\n"
     ]
    }
   ],
   "source": [
    "np.fill_diagonal(R, 0)\n",
    "print (R)"
   ]
  },
  {
   "cell_type": "code",
   "execution_count": null,
   "metadata": {
    "collapsed": true
   },
   "outputs": [],
   "source": []
  },
  {
   "cell_type": "code",
   "execution_count": 37,
   "metadata": {
    "collapsed": true
   },
   "outputs": [],
   "source": [
    "W = np.load('W.dat.npy')"
   ]
  },
  {
   "cell_type": "code",
   "execution_count": 43,
   "metadata": {
    "collapsed": false
   },
   "outputs": [
    {
     "name": "stdout",
     "output_type": "stream",
     "text": [
      "(1, 256)\n",
      "<class 'numpy.ndarray'>\n"
     ]
    }
   ],
   "source": [
    "W = W.reshape(1,-1)\n",
    "print (W.shape)\n",
    "print (type(W))"
   ]
  },
  {
   "cell_type": "code",
   "execution_count": 45,
   "metadata": {
    "collapsed": false
   },
   "outputs": [
    {
     "data": {
      "text/plain": [
       "[<matplotlib.lines.Line2D at 0x9085e80>]"
      ]
     },
     "execution_count": 45,
     "metadata": {},
     "output_type": "execute_result"
    },
    {
     "data": {
      "image/png": "[encoded data removed]",
      "text/plain": [
       "<matplotlib.figure.Figure at 0xc83cbe0>"
      ]
     },
     "metadata": {},
     "output_type": "display_data"
    }
   ],
   "source": [
    "A = np.arange(5)\n",
    "plt.plot(A)"
   ]
  },
  {
   "cell_type": "code",
   "execution_count": 42,
   "metadata": {
    "collapsed": false
   },
   "outputs": [
    {
     "data": {
      "text/plain": [
       "[<matplotlib.lines.Line2D at 0xc511c18>,\n",
       " <matplotlib.lines.Line2D at 0xc511ef0>,\n",
       " <matplotlib.lines.Line2D at 0xc516160>,\n",
       " <matplotlib.lines.Line2D at 0xc516390>,\n",
       " <matplotlib.lines.Line2D at 0xc5165c0>,\n",
       " <matplotlib.lines.Line2D at 0xc5167f0>,\n",
       " <matplotlib.lines.Line2D at 0xc516a20>,\n",
       " <matplotlib.lines.Line2D at 0xc516c50>,\n",
       " <matplotlib.lines.Line2D at 0xc516e80>,\n",
       " <matplotlib.lines.Line2D at 0xc5170f0>,\n",
       " <matplotlib.lines.Line2D at 0xc517320>,\n",
       " <matplotlib.lines.Line2D at 0xc517550>,\n",
       " <matplotlib.lines.Line2D at 0xc4ead68>,\n",
       " <matplotlib.lines.Line2D at 0xc5179b0>,\n",
       " <matplotlib.lines.Line2D at 0xc517be0>,\n",
       " <matplotlib.lines.Line2D at 0xc517e10>,\n",
       " <matplotlib.lines.Line2D at 0xc51a080>,\n",
       " <matplotlib.lines.Line2D at 0xc51a2b0>,\n",
       " <matplotlib.lines.Line2D at 0xc517780>,\n",
       " <matplotlib.lines.Line2D at 0xc51a710>,\n",
       " <matplotlib.lines.Line2D at 0xc51a940>,\n",
       " <matplotlib.lines.Line2D at 0xc51ab70>,\n",
       " <matplotlib.lines.Line2D at 0xc51ada0>,\n",
       " <matplotlib.lines.Line2D at 0xc51afd0>,\n",
       " <matplotlib.lines.Line2D at 0xc51a4e0>,\n",
       " <matplotlib.lines.Line2D at 0xc51c470>,\n",
       " <matplotlib.lines.Line2D at 0xc51c6a0>,\n",
       " <matplotlib.lines.Line2D at 0xc51c8d0>,\n",
       " <matplotlib.lines.Line2D at 0xc51cb00>,\n",
       " <matplotlib.lines.Line2D at 0xc51cd30>,\n",
       " <matplotlib.lines.Line2D at 0xc51c240>,\n",
       " <matplotlib.lines.Line2D at 0xc51e1d0>,\n",
       " <matplotlib.lines.Line2D at 0xc51e400>,\n",
       " <matplotlib.lines.Line2D at 0xc51e630>,\n",
       " <matplotlib.lines.Line2D at 0xc51e860>,\n",
       " <matplotlib.lines.Line2D at 0xc51ea90>,\n",
       " <matplotlib.lines.Line2D at 0xc51cf60>,\n",
       " <matplotlib.lines.Line2D at 0xc51eef0>,\n",
       " <matplotlib.lines.Line2D at 0xc520160>,\n",
       " <matplotlib.lines.Line2D at 0xc520390>,\n",
       " <matplotlib.lines.Line2D at 0xc5205c0>,\n",
       " <matplotlib.lines.Line2D at 0xc5207f0>,\n",
       " <matplotlib.lines.Line2D at 0xc51ecc0>,\n",
       " <matplotlib.lines.Line2D at 0xc520c50>,\n",
       " <matplotlib.lines.Line2D at 0xc520e80>,\n",
       " <matplotlib.lines.Line2D at 0xc5230f0>,\n",
       " <matplotlib.lines.Line2D at 0xc523320>,\n",
       " <matplotlib.lines.Line2D at 0xc523550>,\n",
       " <matplotlib.lines.Line2D at 0xc520a20>,\n",
       " <matplotlib.lines.Line2D at 0xc5239b0>,\n",
       " <matplotlib.lines.Line2D at 0xc523be0>,\n",
       " <matplotlib.lines.Line2D at 0xc523e10>,\n",
       " <matplotlib.lines.Line2D at 0xc525080>,\n",
       " <matplotlib.lines.Line2D at 0xc5252b0>,\n",
       " <matplotlib.lines.Line2D at 0xc523780>,\n",
       " <matplotlib.lines.Line2D at 0xc525710>,\n",
       " <matplotlib.lines.Line2D at 0xc525940>,\n",
       " <matplotlib.lines.Line2D at 0xc525b70>,\n",
       " <matplotlib.lines.Line2D at 0xc525da0>,\n",
       " <matplotlib.lines.Line2D at 0xc525fd0>,\n",
       " <matplotlib.lines.Line2D at 0xc5254e0>,\n",
       " <matplotlib.lines.Line2D at 0xc527470>,\n",
       " <matplotlib.lines.Line2D at 0xc5276a0>,\n",
       " <matplotlib.lines.Line2D at 0xc5278d0>,\n",
       " <matplotlib.lines.Line2D at 0xc527b00>,\n",
       " <matplotlib.lines.Line2D at 0xc527d30>,\n",
       " <matplotlib.lines.Line2D at 0xc527240>,\n",
       " <matplotlib.lines.Line2D at 0xc5291d0>,\n",
       " <matplotlib.lines.Line2D at 0xc529400>,\n",
       " <matplotlib.lines.Line2D at 0xc529630>,\n",
       " <matplotlib.lines.Line2D at 0xc529860>,\n",
       " <matplotlib.lines.Line2D at 0xc529a90>,\n",
       " <matplotlib.lines.Line2D at 0xc527f60>,\n",
       " <matplotlib.lines.Line2D at 0xc529ef0>,\n",
       " <matplotlib.lines.Line2D at 0xc52c160>,\n",
       " <matplotlib.lines.Line2D at 0xc52c390>,\n",
       " <matplotlib.lines.Line2D at 0xc52c5c0>,\n",
       " <matplotlib.lines.Line2D at 0xc52c7f0>,\n",
       " <matplotlib.lines.Line2D at 0xc529cc0>,\n",
       " <matplotlib.lines.Line2D at 0xc52cc50>,\n",
       " <matplotlib.lines.Line2D at 0xc52ce80>,\n",
       " <matplotlib.lines.Line2D at 0xc52e0f0>,\n",
       " <matplotlib.lines.Line2D at 0xc52e320>,\n",
       " <matplotlib.lines.Line2D at 0xc52e550>,\n",
       " <matplotlib.lines.Line2D at 0xc52ca20>,\n",
       " <matplotlib.lines.Line2D at 0xc52e9b0>,\n",
       " <matplotlib.lines.Line2D at 0xc52ebe0>,\n",
       " <matplotlib.lines.Line2D at 0xc52ee10>,\n",
       " <matplotlib.lines.Line2D at 0xc52f080>,\n",
       " <matplotlib.lines.Line2D at 0xc52f2b0>,\n",
       " <matplotlib.lines.Line2D at 0xc52e780>,\n",
       " <matplotlib.lines.Line2D at 0xc52f710>,\n",
       " <matplotlib.lines.Line2D at 0xc52f940>,\n",
       " <matplotlib.lines.Line2D at 0xc52fb70>,\n",
       " <matplotlib.lines.Line2D at 0xc52fda0>,\n",
       " <matplotlib.lines.Line2D at 0xc52ffd0>,\n",
       " <matplotlib.lines.Line2D at 0xc52f4e0>,\n",
       " <matplotlib.lines.Line2D at 0xc532470>,\n",
       " <matplotlib.lines.Line2D at 0xc5326a0>,\n",
       " <matplotlib.lines.Line2D at 0xc5328d0>,\n",
       " <matplotlib.lines.Line2D at 0xc532b00>,\n",
       " <matplotlib.lines.Line2D at 0xc532d30>,\n",
       " <matplotlib.lines.Line2D at 0xc532240>,\n",
       " <matplotlib.lines.Line2D at 0xc5351d0>,\n",
       " <matplotlib.lines.Line2D at 0xc535400>,\n",
       " <matplotlib.lines.Line2D at 0xc535630>,\n",
       " <matplotlib.lines.Line2D at 0xc535860>,\n",
       " <matplotlib.lines.Line2D at 0xc535a90>,\n",
       " <matplotlib.lines.Line2D at 0xc532f60>,\n",
       " <matplotlib.lines.Line2D at 0xc535ef0>,\n",
       " <matplotlib.lines.Line2D at 0xc537160>,\n",
       " <matplotlib.lines.Line2D at 0xc537390>,\n",
       " <matplotlib.lines.Line2D at 0xc5375c0>,\n",
       " <matplotlib.lines.Line2D at 0xc5377f0>,\n",
       " <matplotlib.lines.Line2D at 0xc535cc0>,\n",
       " <matplotlib.lines.Line2D at 0xc537c50>,\n",
       " <matplotlib.lines.Line2D at 0xc537e80>,\n",
       " <matplotlib.lines.Line2D at 0xc5390f0>,\n",
       " <matplotlib.lines.Line2D at 0xc539320>,\n",
       " <matplotlib.lines.Line2D at 0xc539550>,\n",
       " <matplotlib.lines.Line2D at 0xc537a20>,\n",
       " <matplotlib.lines.Line2D at 0xc5399b0>,\n",
       " <matplotlib.lines.Line2D at 0xc539be0>,\n",
       " <matplotlib.lines.Line2D at 0xc539e10>,\n",
       " <matplotlib.lines.Line2D at 0xc53a080>,\n",
       " <matplotlib.lines.Line2D at 0xc53a2b0>,\n",
       " <matplotlib.lines.Line2D at 0xc539780>,\n",
       " <matplotlib.lines.Line2D at 0xc53a710>,\n",
       " <matplotlib.lines.Line2D at 0xc53a940>,\n",
       " <matplotlib.lines.Line2D at 0xc53ab70>,\n",
       " <matplotlib.lines.Line2D at 0xc53ada0>,\n",
       " <matplotlib.lines.Line2D at 0xc53afd0>,\n",
       " <matplotlib.lines.Line2D at 0xc53a4e0>,\n",
       " <matplotlib.lines.Line2D at 0xc53e470>,\n",
       " <matplotlib.lines.Line2D at 0xc53e6a0>,\n",
       " <matplotlib.lines.Line2D at 0xc53e8d0>,\n",
       " <matplotlib.lines.Line2D at 0xc53eb00>,\n",
       " <matplotlib.lines.Line2D at 0xc53ed30>,\n",
       " <matplotlib.lines.Line2D at 0xc53e240>,\n",
       " <matplotlib.lines.Line2D at 0xc53f1d0>,\n",
       " <matplotlib.lines.Line2D at 0xc53f400>,\n",
       " <matplotlib.lines.Line2D at 0xc53f630>,\n",
       " <matplotlib.lines.Line2D at 0xc53f860>,\n",
       " <matplotlib.lines.Line2D at 0xc53fa90>,\n",
       " <matplotlib.lines.Line2D at 0xc53ef60>,\n",
       " <matplotlib.lines.Line2D at 0xc53fef0>,\n",
       " <matplotlib.lines.Line2D at 0xc542160>,\n",
       " <matplotlib.lines.Line2D at 0xc542390>,\n",
       " <matplotlib.lines.Line2D at 0xc5425c0>,\n",
       " <matplotlib.lines.Line2D at 0xc5427f0>,\n",
       " <matplotlib.lines.Line2D at 0xc53fcc0>,\n",
       " <matplotlib.lines.Line2D at 0xc542c50>,\n",
       " <matplotlib.lines.Line2D at 0xc542e80>,\n",
       " <matplotlib.lines.Line2D at 0xc5440f0>,\n",
       " <matplotlib.lines.Line2D at 0xc544320>,\n",
       " <matplotlib.lines.Line2D at 0xc544550>,\n",
       " <matplotlib.lines.Line2D at 0xc542a20>,\n",
       " <matplotlib.lines.Line2D at 0xc5449b0>,\n",
       " <matplotlib.lines.Line2D at 0xc544be0>,\n",
       " <matplotlib.lines.Line2D at 0xc544e10>,\n",
       " <matplotlib.lines.Line2D at 0xc546080>,\n",
       " <matplotlib.lines.Line2D at 0xc5462b0>,\n",
       " <matplotlib.lines.Line2D at 0xc544780>,\n",
       " <matplotlib.lines.Line2D at 0xc546710>,\n",
       " <matplotlib.lines.Line2D at 0xc546940>,\n",
       " <matplotlib.lines.Line2D at 0xc546b70>,\n",
       " <matplotlib.lines.Line2D at 0xc546da0>,\n",
       " <matplotlib.lines.Line2D at 0xc546fd0>,\n",
       " <matplotlib.lines.Line2D at 0xc5464e0>,\n",
       " <matplotlib.lines.Line2D at 0xc549470>,\n",
       " <matplotlib.lines.Line2D at 0xc5496a0>,\n",
       " <matplotlib.lines.Line2D at 0xc5498d0>,\n",
       " <matplotlib.lines.Line2D at 0xc549b00>,\n",
       " <matplotlib.lines.Line2D at 0xc549d30>,\n",
       " <matplotlib.lines.Line2D at 0xc549240>,\n",
       " <matplotlib.lines.Line2D at 0xc54a1d0>,\n",
       " <matplotlib.lines.Line2D at 0xc54a400>,\n",
       " <matplotlib.lines.Line2D at 0xc54a630>,\n",
       " <matplotlib.lines.Line2D at 0xc54a860>,\n",
       " <matplotlib.lines.Line2D at 0xc54aa90>,\n",
       " <matplotlib.lines.Line2D at 0xc549f60>,\n",
       " <matplotlib.lines.Line2D at 0xc54aef0>,\n",
       " <matplotlib.lines.Line2D at 0xc54d160>,\n",
       " <matplotlib.lines.Line2D at 0xc54d390>,\n",
       " <matplotlib.lines.Line2D at 0xc54d5c0>,\n",
       " <matplotlib.lines.Line2D at 0xc54d7f0>,\n",
       " <matplotlib.lines.Line2D at 0xc54acc0>,\n",
       " <matplotlib.lines.Line2D at 0xc54dc50>,\n",
       " <matplotlib.lines.Line2D at 0xc54de80>,\n",
       " <matplotlib.lines.Line2D at 0xc5500f0>,\n",
       " <matplotlib.lines.Line2D at 0xc550320>,\n",
       " <matplotlib.lines.Line2D at 0xc550550>,\n",
       " <matplotlib.lines.Line2D at 0xc54da20>,\n",
       " <matplotlib.lines.Line2D at 0xc5509b0>,\n",
       " <matplotlib.lines.Line2D at 0xc550be0>,\n",
       " <matplotlib.lines.Line2D at 0xc550e10>,\n",
       " <matplotlib.lines.Line2D at 0xc551080>,\n",
       " <matplotlib.lines.Line2D at 0xc5512b0>,\n",
       " <matplotlib.lines.Line2D at 0xc550780>,\n",
       " <matplotlib.lines.Line2D at 0xc551710>,\n",
       " <matplotlib.lines.Line2D at 0xc551940>,\n",
       " <matplotlib.lines.Line2D at 0xc551b70>,\n",
       " <matplotlib.lines.Line2D at 0xc551da0>,\n",
       " <matplotlib.lines.Line2D at 0xc551fd0>,\n",
       " <matplotlib.lines.Line2D at 0xc5514e0>,\n",
       " <matplotlib.lines.Line2D at 0xc554470>,\n",
       " <matplotlib.lines.Line2D at 0xc5546a0>,\n",
       " <matplotlib.lines.Line2D at 0xc5548d0>,\n",
       " <matplotlib.lines.Line2D at 0xc554b00>,\n",
       " <matplotlib.lines.Line2D at 0xc554d30>,\n",
       " <matplotlib.lines.Line2D at 0xc554240>,\n",
       " <matplotlib.lines.Line2D at 0xc5551d0>,\n",
       " <matplotlib.lines.Line2D at 0xc555400>,\n",
       " <matplotlib.lines.Line2D at 0xc555630>,\n",
       " <matplotlib.lines.Line2D at 0xc555860>,\n",
       " <matplotlib.lines.Line2D at 0xc555a90>,\n",
       " <matplotlib.lines.Line2D at 0xc554f60>,\n",
       " <matplotlib.lines.Line2D at 0xc555ef0>,\n",
       " <matplotlib.lines.Line2D at 0xc559160>,\n",
       " <matplotlib.lines.Line2D at 0xc559390>,\n",
       " <matplotlib.lines.Line2D at 0xc5595c0>,\n",
       " <matplotlib.lines.Line2D at 0xc5597f0>,\n",
       " <matplotlib.lines.Line2D at 0xc555cc0>,\n",
       " <matplotlib.lines.Line2D at 0xc559c50>,\n",
       " <matplotlib.lines.Line2D at 0xc559e80>,\n",
       " <matplotlib.lines.Line2D at 0xc55a0f0>,\n",
       " <matplotlib.lines.Line2D at 0xc55a320>,\n",
       " <matplotlib.lines.Line2D at 0xc55a550>,\n",
       " <matplotlib.lines.Line2D at 0xc559a20>,\n",
       " <matplotlib.lines.Line2D at 0xc55a9b0>,\n",
       " <matplotlib.lines.Line2D at 0xc55abe0>,\n",
       " <matplotlib.lines.Line2D at 0xc55ae10>,\n",
       " <matplotlib.lines.Line2D at 0xc55c080>,\n",
       " <matplotlib.lines.Line2D at 0xc55c2b0>,\n",
       " <matplotlib.lines.Line2D at 0xc55a780>,\n",
       " <matplotlib.lines.Line2D at 0xc55c710>,\n",
       " <matplotlib.lines.Line2D at 0xc55c940>,\n",
       " <matplotlib.lines.Line2D at 0xc55cb70>,\n",
       " <matplotlib.lines.Line2D at 0xc55cda0>,\n",
       " <matplotlib.lines.Line2D at 0xc4f4a20>,\n",
       " <matplotlib.lines.Line2D at 0xc4f4550>,\n",
       " <matplotlib.lines.Line2D at 0xc4f1710>,\n",
       " <matplotlib.lines.Line2D at 0xc4eff60>,\n",
       " <matplotlib.lines.Line2D at 0xc4ef390>,\n",
       " <matplotlib.lines.Line2D at 0xc4e6f60>,\n",
       " <matplotlib.lines.Line2D at 0xc4ea6a0>,\n",
       " <matplotlib.lines.Line2D at 0xc4f4748>,\n",
       " <matplotlib.lines.Line2D at 0xc4e93c8>,\n",
       " <matplotlib.lines.Line2D at 0xc4e9748>,\n",
       " <matplotlib.lines.Line2D at 0xc4d2518>,\n",
       " <matplotlib.lines.Line2D at 0xc4e4390>,\n",
       " <matplotlib.lines.Line2D at 0xc4e4e10>,\n",
       " <matplotlib.lines.Line2D at 0xc4ea320>,\n",
       " <matplotlib.lines.Line2D at 0xc4e4898>,\n",
       " <matplotlib.lines.Line2D at 0xc4ddc88>,\n",
       " <matplotlib.lines.Line2D at 0xc55f128>]"
      ]
     },
     "execution_count": 42,
     "metadata": {},
     "output_type": "execute_result"
    },
    {
     "data": {
      "image/png": "[encoded data removed]",
      "text/plain": [
       "<matplotlib.figure.Figure at 0xbffc8d0>"
      ]
     },
     "metadata": {},
     "output_type": "display_data"
    }
   ],
   "source": [
    "plt.plot(W)"
   ]
  },
  {
   "cell_type": "code",
   "execution_count": 44,
   "metadata": {
    "collapsed": false
   },
   "outputs": [
    {
     "data": {
      "text/plain": [
       "array([[ 0.        ,  0.23315981, -0.41442199,  0.64734756, -1.09865496,\n",
       "         0.18951477,  0.67176322, -0.50910919, -0.20054966, -0.64993808,\n",
       "        -0.08537763,  0.43167974,  0.55934658,  0.0693222 ,  0.68748319,\n",
       "         1.57273294,  0.23315981,  0.        , -1.64633056,  2.11321877,\n",
       "         1.95552244,  1.19651397,  0.65851845,  0.21703923,  0.56161409,\n",
       "         0.91434768,  0.81798816, -0.374813  , -0.94486193, -1.90613505,\n",
       "         0.55496683,  0.64158013, -0.41442199, -1.64633056,  0.        ,\n",
       "         1.18725173,  0.73725632,  1.67308946, -0.58135902, -0.47021966,\n",
       "         0.35275579,  0.52580778, -1.01085213,  0.11835908,  0.96472162,\n",
       "         0.79835586, -0.62715385,  2.17213668,  0.64734756,  2.11321877,\n",
       "         1.18725173,  0.        , -0.21717797, -1.04710238, -0.06816384,\n",
       "         1.41845501,  0.86562215,  1.3496813 ,  1.00354722,  0.17350864,\n",
       "        -0.30145845, -0.0944941 ,  1.07682338,  0.15071019, -1.09865496,\n",
       "         1.95552244,  0.73725632, -0.21717797,  0.        ,  1.40861692,\n",
       "         0.55773197, -1.08440271, -0.2503212 ,  0.06446465, -1.39949638,\n",
       "         0.57437861,  1.25818384, -0.74160247, -0.17637902, -0.53453833,\n",
       "         0.18951477,  1.19651397,  1.67308946, -1.04710238,  1.40861692,\n",
       "         0.        ,  0.73595595,  1.25988716, -0.90065437,  0.09945627,\n",
       "         1.24810217, -2.02198831,  0.75163291,  1.2792074 , -1.81995037,\n",
       "         1.35097558,  0.67176322,  0.65851845, -0.58135902, -0.06816384,\n",
       "         0.55773197,  0.73595595,  0.        ,  1.17556396,  0.20692294,\n",
       "        -0.25584246,  1.24562962, -0.18580715,  0.64272213, -0.13720694,\n",
       "        -2.11419674,  0.70496438, -0.50910919,  0.21703923, -0.47021966,\n",
       "         1.41845501, -1.08440271,  1.25988716,  1.17556396,  0.        ,\n",
       "         0.24611118,  0.55577846, -0.08163541,  0.98412872,  1.45680732,\n",
       "        -0.87662789, -0.42247778, -1.34267548, -0.20054966,  0.56161409,\n",
       "         0.35275579,  0.86562215, -0.2503212 , -0.90065437,  0.20692294,\n",
       "         0.24611118,  0.        , -1.24854093,  0.04053905, -0.06129575,\n",
       "        -1.87474649,  0.55198307, -0.89824095, -0.69185392, -0.64993808,\n",
       "         0.91434768,  0.52580778,  1.3496813 ,  0.06446465,  0.09945627,\n",
       "        -0.25584246,  0.55577846, -1.24854093,  0.        ,  0.08819114,\n",
       "        -0.06164422,  0.44923294,  0.10801257, -2.50025283, -0.65002279,\n",
       "        -0.08537763,  0.81798816, -1.01085213,  1.00354722, -1.39949638,\n",
       "         1.24810217,  1.24562962, -0.08163541,  0.04053905,  0.08819114,\n",
       "         0.        , -1.20905699,  0.68659398,  0.64090167,  0.55068045,\n",
       "         0.48642476,  0.43167974, -0.374813  ,  0.11835908,  0.17350864,\n",
       "         0.57437861, -2.02198831, -0.18580715,  0.98412872, -0.06129575,\n",
       "        -0.06164422, -1.20905699,  0.        ,  1.24633198,  0.80770757,\n",
       "         0.61418569,  0.2199009 ,  0.55934658, -0.94486193,  0.96472162,\n",
       "        -0.30145845,  1.25818384,  0.75163291,  0.64272213,  1.45680732,\n",
       "        -1.87474649,  0.44923294,  0.68659398,  1.24633198,  0.        ,\n",
       "         0.67501319,  0.25768415,  0.83792007,  0.0693222 , -1.90613505,\n",
       "         0.79835586, -0.0944941 , -0.74160247,  1.2792074 , -0.13720694,\n",
       "        -0.87662789,  0.55198307,  0.10801257,  0.64090167,  0.80770757,\n",
       "         0.67501319,  0.        ,  2.89047884,  1.12938936,  0.68748319,\n",
       "         0.55496683, -0.62715385,  1.07682338, -0.17637902, -1.81995037,\n",
       "        -2.11419674, -0.42247778, -0.89824095, -2.50025283,  0.55068045,\n",
       "         0.61418569,  0.25768415,  2.89047884,  0.        , -0.28022056,\n",
       "         1.57273294,  0.64158013,  2.17213668,  0.15071019, -0.53453833,\n",
       "         1.35097558,  0.70496438, -1.34267548, -0.69185392, -0.65002279,\n",
       "         0.48642476,  0.2199009 ,  0.83792007,  1.12938936, -0.28022056,\n",
       "         0.        ]])"
      ]
     },
     "execution_count": 44,
     "metadata": {},
     "output_type": "execute_result"
    }
   ],
   "source": [
    "W"
   ]
  },
  {
   "cell_type": "code",
   "execution_count": null,
   "metadata": {
    "collapsed": true
   },
   "outputs": [],
   "source": []
  },
  {
   "cell_type": "code",
   "execution_count": null,
   "metadata": {
    "collapsed": true
   },
   "outputs": [],
   "source": []
  },
  {
   "cell_type": "code",
   "execution_count": null,
   "metadata": {
    "collapsed": true
   },
   "outputs": [],
   "source": []
  },
  {
   "cell_type": "code",
   "execution_count": null,
   "metadata": {
    "collapsed": true
   },
   "outputs": [],
   "source": []
  }
 ],
 "metadata": {
  "kernelspec": {
   "display_name": "Python 3",
   "language": "python",
   "name": "python3"
  },
  "language_info": {
   "codemirror_mode": {
    "name": "ipython",
    "version": 3
   },
   "file_extension": ".py",
   "mimetype": "text/x-python",
   "name": "python",
   "nbconvert_exporter": "python",
   "pygments_lexer": "ipython3",
   "version": "3.5.2"
  }
 },
 "nbformat": 4,
 "nbformat_minor": 1
}
